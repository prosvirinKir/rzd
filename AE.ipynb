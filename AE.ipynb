{
 "cells": [
  {
   "cell_type": "code",
   "execution_count": 1,
   "metadata": {},
   "outputs": [],
   "source": [
    "import torch\n",
    "import torch.nn as nn\n",
    "import torch.nn.functional as F\n",
    "import random\n",
    "import numpy as np\n",
    "import pandas as pd\n",
    "import matplotlib.pyplot as plt\n",
    "import warnings\n",
    "import seaborn as sns\n",
    "from datetime import datetime\n",
    "sns.set(style=\"whitegrid\", font_scale=1.4)\n",
    "warnings.filterwarnings('ignore')\n",
    "\n",
    "from sklearn.model_selection import train_test_split\n",
    "from sklearn.metrics import roc_auc_score, roc_curve\n",
    "\n",
    "from sklearn.manifold import TSNE\n",
    "from sklearn import preprocessing\n",
    "from sklearn.metrics import balanced_accuracy_score\n",
    "from sklearn.metrics import confusion_matrix\n",
    "from numpy import argmax\n",
    "from tqdm import trange\n",
    "\n",
    "random.seed(0)\n",
    "np.random.seed(0)\n",
    "torch.manual_seed(0)\n",
    "torch.cuda.manual_seed(0)\n",
    "torch.backends.cudnn.deterministic = True"
   ]
  },
  {
   "cell_type": "markdown",
   "metadata": {},
   "source": [
    "## Подготовка данных"
   ]
  },
  {
   "cell_type": "code",
   "execution_count": 2,
   "metadata": {},
   "outputs": [],
   "source": [
    "df = pd.read_csv('Data_set.csv')"
   ]
  },
  {
   "cell_type": "code",
   "execution_count": 3,
   "metadata": {},
   "outputs": [
    {
     "data": {
      "text/html": [
       "<div>\n",
       "<style scoped>\n",
       "    .dataframe tbody tr th:only-of-type {\n",
       "        vertical-align: middle;\n",
       "    }\n",
       "\n",
       "    .dataframe tbody tr th {\n",
       "        vertical-align: top;\n",
       "    }\n",
       "\n",
       "    .dataframe thead th {\n",
       "        text-align: right;\n",
       "    }\n",
       "</style>\n",
       "<table border=\"1\" class=\"dataframe\">\n",
       "  <thead>\n",
       "    <tr style=\"text-align: right;\">\n",
       "      <th></th>\n",
       "      <th>Unnamed: 0</th>\n",
       "      <th>MONTH</th>\n",
       "      <th>DAY</th>\n",
       "      <th>M</th>\n",
       "      <th>BALL</th>\n",
       "      <th>SPEED_RES_PAS</th>\n",
       "      <th>SPEED_RES_FRE</th>\n",
       "      <th>SPEED_RES_EMPTY</th>\n",
       "      <th>SPEED_NORM_PAS</th>\n",
       "      <th>SPEED_NORM_FRE</th>\n",
       "      <th>...</th>\n",
       "      <th>O_4</th>\n",
       "      <th>O_T</th>\n",
       "      <th>delta_OTS_2</th>\n",
       "      <th>delta_OTS_3</th>\n",
       "      <th>delta_OTS_4</th>\n",
       "      <th>delta_O_1</th>\n",
       "      <th>delta_O_2</th>\n",
       "      <th>delta_O_3</th>\n",
       "      <th>delta_O_4</th>\n",
       "      <th>delta_O_T</th>\n",
       "    </tr>\n",
       "  </thead>\n",
       "  <tbody>\n",
       "    <tr>\n",
       "      <th>0</th>\n",
       "      <td>5</td>\n",
       "      <td>1</td>\n",
       "      <td>19</td>\n",
       "      <td>1</td>\n",
       "      <td>10</td>\n",
       "      <td>1000</td>\n",
       "      <td>1000</td>\n",
       "      <td>1000</td>\n",
       "      <td>60</td>\n",
       "      <td>50</td>\n",
       "      <td>...</td>\n",
       "      <td>0</td>\n",
       "      <td>1</td>\n",
       "      <td>1</td>\n",
       "      <td>0</td>\n",
       "      <td>0</td>\n",
       "      <td>0</td>\n",
       "      <td>1</td>\n",
       "      <td>0</td>\n",
       "      <td>0</td>\n",
       "      <td>1</td>\n",
       "    </tr>\n",
       "    <tr>\n",
       "      <th>1</th>\n",
       "      <td>8</td>\n",
       "      <td>1</td>\n",
       "      <td>23</td>\n",
       "      <td>1</td>\n",
       "      <td>10</td>\n",
       "      <td>1000</td>\n",
       "      <td>1000</td>\n",
       "      <td>1000</td>\n",
       "      <td>140</td>\n",
       "      <td>90</td>\n",
       "      <td>...</td>\n",
       "      <td>0</td>\n",
       "      <td>1</td>\n",
       "      <td>-1</td>\n",
       "      <td>0</td>\n",
       "      <td>0</td>\n",
       "      <td>0</td>\n",
       "      <td>-1</td>\n",
       "      <td>0</td>\n",
       "      <td>0</td>\n",
       "      <td>-1</td>\n",
       "    </tr>\n",
       "    <tr>\n",
       "      <th>2</th>\n",
       "      <td>11</td>\n",
       "      <td>1</td>\n",
       "      <td>23</td>\n",
       "      <td>1</td>\n",
       "      <td>10</td>\n",
       "      <td>1000</td>\n",
       "      <td>1000</td>\n",
       "      <td>1000</td>\n",
       "      <td>160</td>\n",
       "      <td>90</td>\n",
       "      <td>...</td>\n",
       "      <td>0</td>\n",
       "      <td>0</td>\n",
       "      <td>-2</td>\n",
       "      <td>0</td>\n",
       "      <td>0</td>\n",
       "      <td>0</td>\n",
       "      <td>-2</td>\n",
       "      <td>0</td>\n",
       "      <td>0</td>\n",
       "      <td>-2</td>\n",
       "    </tr>\n",
       "    <tr>\n",
       "      <th>3</th>\n",
       "      <td>13</td>\n",
       "      <td>1</td>\n",
       "      <td>23</td>\n",
       "      <td>1</td>\n",
       "      <td>10</td>\n",
       "      <td>1000</td>\n",
       "      <td>1000</td>\n",
       "      <td>1000</td>\n",
       "      <td>160</td>\n",
       "      <td>90</td>\n",
       "      <td>...</td>\n",
       "      <td>0</td>\n",
       "      <td>0</td>\n",
       "      <td>0</td>\n",
       "      <td>0</td>\n",
       "      <td>0</td>\n",
       "      <td>0</td>\n",
       "      <td>0</td>\n",
       "      <td>0</td>\n",
       "      <td>0</td>\n",
       "      <td>0</td>\n",
       "    </tr>\n",
       "    <tr>\n",
       "      <th>4</th>\n",
       "      <td>15</td>\n",
       "      <td>1</td>\n",
       "      <td>23</td>\n",
       "      <td>1</td>\n",
       "      <td>10</td>\n",
       "      <td>1000</td>\n",
       "      <td>1000</td>\n",
       "      <td>1000</td>\n",
       "      <td>160</td>\n",
       "      <td>90</td>\n",
       "      <td>...</td>\n",
       "      <td>0</td>\n",
       "      <td>0</td>\n",
       "      <td>0</td>\n",
       "      <td>0</td>\n",
       "      <td>0</td>\n",
       "      <td>0</td>\n",
       "      <td>0</td>\n",
       "      <td>0</td>\n",
       "      <td>0</td>\n",
       "      <td>0</td>\n",
       "    </tr>\n",
       "  </tbody>\n",
       "</table>\n",
       "<p>5 rows × 146 columns</p>\n",
       "</div>"
      ],
      "text/plain": [
       "   Unnamed: 0  MONTH  DAY  M  BALL  SPEED_RES_PAS  SPEED_RES_FRE  \\\n",
       "0           5      1   19  1    10           1000           1000   \n",
       "1           8      1   23  1    10           1000           1000   \n",
       "2          11      1   23  1    10           1000           1000   \n",
       "3          13      1   23  1    10           1000           1000   \n",
       "4          15      1   23  1    10           1000           1000   \n",
       "\n",
       "   SPEED_RES_EMPTY  SPEED_NORM_PAS  SPEED_NORM_FRE  ...  O_4  O_T  \\\n",
       "0             1000              60              50  ...    0    1   \n",
       "1             1000             140              90  ...    0    1   \n",
       "2             1000             160              90  ...    0    0   \n",
       "3             1000             160              90  ...    0    0   \n",
       "4             1000             160              90  ...    0    0   \n",
       "\n",
       "   delta_OTS_2  delta_OTS_3  delta_OTS_4  delta_O_1  delta_O_2  delta_O_3  \\\n",
       "0            1            0            0          0          1          0   \n",
       "1           -1            0            0          0         -1          0   \n",
       "2           -2            0            0          0         -2          0   \n",
       "3            0            0            0          0          0          0   \n",
       "4            0            0            0          0          0          0   \n",
       "\n",
       "   delta_O_4  delta_O_T  \n",
       "0          0          1  \n",
       "1          0         -1  \n",
       "2          0         -2  \n",
       "3          0          0  \n",
       "4          0          0  \n",
       "\n",
       "[5 rows x 146 columns]"
      ]
     },
     "execution_count": 3,
     "metadata": {},
     "output_type": "execute_result"
    }
   ],
   "source": [
    "df.head()"
   ]
  },
  {
   "cell_type": "code",
   "execution_count": 4,
   "metadata": {},
   "outputs": [
    {
     "data": {
      "text/plain": [
       "False"
      ]
     },
     "execution_count": 4,
     "metadata": {},
     "output_type": "execute_result"
    }
   ],
   "source": [
    "df.isnull().values.any()"
   ]
  },
  {
   "cell_type": "code",
   "execution_count": 5,
   "metadata": {},
   "outputs": [],
   "source": [
    "np_df = df.drop(['TARGET', 'M', 'Unnamed: 0'], axis = 1).values\n",
    "np_labels = np.array(df.TARGET)"
   ]
  },
  {
   "cell_type": "code",
   "execution_count": 6,
   "metadata": {},
   "outputs": [],
   "source": [
    "# X_train, X_test, y_train, y_test = train_test_split(np_df, np_labels, test_size=0.2, random_state=10)\n",
    "\n",
    "blade = 92347 # Последние полгода\n",
    "\n",
    "# Разобьем на трейн-тест выборку\n",
    "X_train, X_test, y_train, y_test = np_df[:blade], np_df[blade:], np_labels[:blade], np_labels[blade:]"
   ]
  },
  {
   "cell_type": "code",
   "execution_count": 7,
   "metadata": {},
   "outputs": [],
   "source": [
    "X_train = torch.FloatTensor(X_train) \n",
    "y_train = torch.FloatTensor(y_train) \n",
    "\n",
    "X_test = torch.FloatTensor(X_test) \n",
    "y_test = torch.FloatTensor(y_test)"
   ]
  },
  {
   "cell_type": "code",
   "execution_count": 8,
   "metadata": {},
   "outputs": [
    {
     "data": {
      "text/plain": [
       "(torch.Size([92347, 143]),)"
      ]
     },
     "execution_count": 8,
     "metadata": {},
     "output_type": "execute_result"
    }
   ],
   "source": [
    "X_train.shape, "
   ]
  },
  {
   "cell_type": "code",
   "execution_count": 9,
   "metadata": {},
   "outputs": [],
   "source": [
    "train_loader = torch.utils.data.DataLoader(X_train, batch_size=1)\n",
    "test_loader = torch.utils.data.DataLoader(X_test, batch_size=1)"
   ]
  },
  {
   "cell_type": "markdown",
   "metadata": {},
   "source": [
    "## Напишем автоэнкодер"
   ]
  },
  {
   "cell_type": "markdown",
   "metadata": {},
   "source": [
    "**Идея**: Сетка состоит из двух блоков - encoder & decoder. \n",
    "\n",
    "Encoder для каждой строчки из нашего датасета получает какое-то скрытое (латентное) представление.\n",
    "\n",
    "Decoder пытается по этому латентному вектору предсказать *исходный* вектор. Т.е. по сути мы учим\n",
    "\n",
    "нашу сеть предсказывать ее же вход. Затем, мы прогоняем наш train и получаем для каждой строки ее\n",
    "\n",
    "скрытое представление - латентный вектор (функция get_latent_vector), который мы уже сравниваем с\n",
    "\n",
    "латентным вектором test с помощью косинусного расстояния. Т.е. ключевая идея в том, что в латентном\n",
    "\n",
    "пространстве векторы соответсвующие TARGET=0 и TARGET=1 находятся в разных \"местах\".\n",
    "отличать их друг от друга\n",
    "\n",
    "**Для чего это нужно.**\n",
    "\n",
    "Мне показалось это хорошей идеей по следующей причине.\n",
    "\n",
    "Т.к. у нас есть изначально неверные данные, то сетка уже изначально учится на ошибках. Тут же\n",
    "\n",
    "мы учим сеть предсказывать то, что ей подали на вход, поэтому на этапе обучения пропуски/ошибки \n",
    "\n",
    "никак не влияют."
   ]
  },
  {
   "cell_type": "code",
   "execution_count": 10,
   "metadata": {},
   "outputs": [],
   "source": [
    "dim_code=16"
   ]
  },
  {
   "cell_type": "code",
   "execution_count": 11,
   "metadata": {},
   "outputs": [],
   "source": [
    "class Autoencoder(nn.Module):\n",
    "    def __init__(self):\n",
    "        super(Autoencoder, self).__init__()\n",
    " \n",
    "        # encoder\n",
    "        self.encoder = nn.Sequential(\n",
    "            nn.Linear(in_features=143, out_features=64),\n",
    "            nn.SiLU(),\n",
    "            nn.Linear(in_features=64, out_features=32),\n",
    "            nn.SiLU(),\n",
    "            nn.Linear(in_features=32, out_features=dim_code),\n",
    "            nn.SiLU()\n",
    "        )\n",
    " \n",
    "        # decoder \n",
    "        self.decoder = nn.Sequential(\n",
    "            nn.Linear(in_features=dim_code, out_features=32),\n",
    "            nn.SiLU(),\n",
    "            nn.Linear(in_features=32, out_features=64),\n",
    "            nn.SiLU(),\n",
    "            nn.Linear(in_features=64, out_features=143),\n",
    "            nn.Sigmoid()\n",
    "        )\n",
    "        \n",
    "    def forward(self, x):\n",
    "        latent_code = self.encoder(x.float())\n",
    "        reconstruction = self.decoder(latent_code)\n",
    "        return reconstruction\n",
    "    \n",
    "    def get_latent_vector(self, x):\n",
    "        latent_code = self.encoder(x.float())\n",
    "        return latent_code\n",
    "\n",
    "    def sample(self, z):\n",
    "        generated = self.decoder(z)\n",
    "        return generated"
   ]
  },
  {
   "cell_type": "code",
   "execution_count": 12,
   "metadata": {},
   "outputs": [],
   "source": [
    "def train(model, optimizer, criterion, train_loader, val_loader, n_epochs=20):\n",
    "    train_losses = []\n",
    "    val_losses = []\n",
    "\n",
    "    for epoch in trange(n_epochs):\n",
    "        model.train()\n",
    "        train_losses_per_epoch = []\n",
    "        for X_batch in train_loader:\n",
    "#             print(\"\\n X_batch.shape = \", X_batch.shape)\n",
    "            optimizer.zero_grad()\n",
    "            reconstruction = model(X_batch.to(device))\n",
    "#             print(\"\\n reconstruction =\", reconstruction)\n",
    "            loss = criterion(reconstruction, X_batch.to(device))\n",
    "            loss.backward()\n",
    "            optimizer.step()\n",
    "            train_losses_per_epoch.append(loss.item())\n",
    "            break\n",
    "        train_losses.append(np.mean(train_losses_per_epoch))\n",
    "\n",
    "        model.eval()\n",
    "        val_losses_per_epoch = []\n",
    "        with torch.no_grad():\n",
    "            for X_batch in val_loader:\n",
    "                reconstruction = model(X_batch.to(device))\n",
    "                loss = criterion(X_batch.to(device).float(), reconstruction)\n",
    "                val_losses_per_epoch.append(loss.item())\n",
    "\n",
    "        val_losses.append(np.mean(val_losses_per_epoch))\n",
    "\n",
    "    return train_losses, val_losses"
   ]
  },
  {
   "cell_type": "code",
   "execution_count": 13,
   "metadata": {},
   "outputs": [],
   "source": [
    "device = 'cuda:0' if torch.cuda.is_available() else 'cpu'"
   ]
  },
  {
   "cell_type": "code",
   "execution_count": 14,
   "metadata": {},
   "outputs": [],
   "source": [
    "criterion = nn.MSELoss()\n",
    "autoencoder = Autoencoder().to(device)\n",
    "optimizer = torch.optim.Adam(autoencoder.parameters())"
   ]
  },
  {
   "cell_type": "code",
   "execution_count": 15,
   "metadata": {},
   "outputs": [
    {
     "name": "stderr",
     "output_type": "stream",
     "text": [
      "100%|██████████| 40/40 [01:53<00:00,  2.85s/it]\n"
     ]
    }
   ],
   "source": [
    "train_losses, val_losses = train(autoencoder, optimizer, criterion, train_loader, test_loader, n_epochs=40)"
   ]
  },
  {
   "cell_type": "code",
   "execution_count": 16,
   "metadata": {},
   "outputs": [
    {
     "data": {
      "image/png": "[encoded data removed]",
      "text/plain": [
       "<Figure size 864x576 with 1 Axes>"
      ]
     },
     "metadata": {},
     "output_type": "display_data"
    }
   ],
   "source": [
    "plt.figure(figsize=(12, 8))\n",
    "plt.plot(np.arange(len(train_losses)), train_losses, label='Train')\n",
    "# plt.plot(np.arange(len(val_losses)), val_losses, label='Validation')\n",
    "\n",
    "plt.xlabel('Epoch')\n",
    "plt.title('MSE loss')\n",
    "plt.legend()\n",
    "\n",
    "plt.show()"
   ]
  },
  {
   "cell_type": "markdown",
   "metadata": {},
   "source": [
    "1. Loss function (sum -> mean)\n",
    "2. mu, log_sigma"
   ]
  },
  {
   "cell_type": "code",
   "execution_count": 17,
   "metadata": {},
   "outputs": [],
   "source": [
    "test_loader = torch.utils.data.DataLoader(X_test, batch_size=128)\n",
    "y_test_loader = torch.utils.data.DataLoader(y_test, batch_size=128)\n",
    "\n",
    "test_loader = iter(test_loader)\n",
    "y_test_loader = iter(y_test_loader)\n",
    "\n",
    "X_batch, y_batch = next(zip(test_loader, y_test_loader))"
   ]
  },
  {
   "cell_type": "code",
   "execution_count": 18,
   "metadata": {},
   "outputs": [
    {
     "data": {
      "text/plain": [
       "(torch.Size([128, 143]), torch.Size([128]))"
      ]
     },
     "execution_count": 18,
     "metadata": {},
     "output_type": "execute_result"
    }
   ],
   "source": [
    "X_batch.shape, y_batch.shape"
   ]
  },
  {
   "cell_type": "code",
   "execution_count": 19,
   "metadata": {},
   "outputs": [
    {
     "data": {
      "text/plain": [
       "(torch.int32, torch.Tensor)"
      ]
     },
     "execution_count": 19,
     "metadata": {},
     "output_type": "execute_result"
    }
   ],
   "source": [
    "y_batch = y_batch.int()\n",
    "y_batch.dtype, type(y_batch)"
   ]
  },
  {
   "cell_type": "code",
   "execution_count": 20,
   "metadata": {},
   "outputs": [],
   "source": [
    "model = autoencoder\n",
    "latent_vector_list = model.get_latent_vector(X_batch.to(device))\n",
    "labels = y_batch.reshape(-1, 1)\n",
    "for X_batch, y_batch in zip(test_loader, y_test_loader):\n",
    "    batch_sample = model.get_latent_vector(X_batch.to(device))\n",
    "    latent_vector_list = torch.vstack((latent_vector_list, batch_sample))\n",
    "    labels = torch.vstack((labels, y_batch.reshape(-1, 1)))"
   ]
  },
  {
   "cell_type": "code",
   "execution_count": 21,
   "metadata": {},
   "outputs": [
    {
     "data": {
      "text/plain": [
       "(torch.Size([15250, 16]), torch.Size([15250, 1]))"
      ]
     },
     "execution_count": 21,
     "metadata": {},
     "output_type": "execute_result"
    }
   ],
   "source": [
    "latent_vector_list.shape, labels.shape"
   ]
  },
  {
   "cell_type": "code",
   "execution_count": 22,
   "metadata": {},
   "outputs": [],
   "source": [
    "latent_vector_list = latent_vector_list.detach().cpu()\n",
    "labels = labels.detach().cpu()"
   ]
  },
  {
   "cell_type": "code",
   "execution_count": 23,
   "metadata": {},
   "outputs": [
    {
     "data": {
      "text/plain": [
       "torch.int32"
      ]
     },
     "execution_count": 23,
     "metadata": {},
     "output_type": "execute_result"
    }
   ],
   "source": [
    "labels = labels.int()\n",
    "labels.dtype"
   ]
  },
  {
   "cell_type": "code",
   "execution_count": 24,
   "metadata": {},
   "outputs": [
    {
     "data": {
      "text/plain": [
       "tensor([0, 1], dtype=torch.int32)"
      ]
     },
     "execution_count": 24,
     "metadata": {},
     "output_type": "execute_result"
    }
   ],
   "source": [
    "labels.unique()"
   ]
  },
  {
   "cell_type": "code",
   "execution_count": 25,
   "metadata": {},
   "outputs": [],
   "source": [
    "# X_embedded = TSNE(n_components=2).fit_transform(latent_vector_list)\n",
    "# X_embedded.shape"
   ]
  },
  {
   "cell_type": "code",
   "execution_count": 26,
   "metadata": {
    "scrolled": false
   },
   "outputs": [],
   "source": [
    "# plt.figure(figsize=[20, 10])\n",
    "# graph = plt.scatter(X_embedded[:,0], X_embedded[:,1], c=labels.reshape(-1), cmap='summer')\n",
    "# plt.colorbar(graph)\n",
    "# plt.show()"
   ]
  },
  {
   "cell_type": "markdown",
   "metadata": {},
   "source": [
    "Посчитаем средний вектор (mu) латентного пространства для объектов у которых TARGET=1 и отдельно для TARGET=0."
   ]
  },
  {
   "cell_type": "code",
   "execution_count": 27,
   "metadata": {},
   "outputs": [],
   "source": [
    "# X_train, X_test, y_train, y_test = train_test_split(np_df, np_labels, test_size=0.2, random_state=10)\n",
    "\n",
    "blade = 92347 # Последние полгода\n",
    "\n",
    "# Разобьем на трейн-тест выборку\n",
    "X_train, X_test, y_train, y_test = np_df[:blade], np_df[blade:], np_labels[:blade], np_labels[blade:]"
   ]
  },
  {
   "cell_type": "code",
   "execution_count": 28,
   "metadata": {},
   "outputs": [],
   "source": [
    "X_zeros = []\n",
    "X_ones = []\n",
    "\n",
    "for x, y in zip(X_train, y_train):\n",
    "    if y == 0:\n",
    "        X_zeros.append(x)\n",
    "    else:\n",
    "        X_ones.append(x)"
   ]
  },
  {
   "cell_type": "code",
   "execution_count": 29,
   "metadata": {},
   "outputs": [],
   "source": [
    "X_zeros = torch.utils.data.DataLoader(torch.FloatTensor(X_zeros), batch_size=32)\n",
    "X_ones = torch.utils.data.DataLoader(torch.FloatTensor(X_ones), batch_size=32)"
   ]
  },
  {
   "cell_type": "code",
   "execution_count": 30,
   "metadata": {},
   "outputs": [],
   "source": [
    "X_zeros = iter(X_zeros)\n",
    "X_ones = iter(X_ones)"
   ]
  },
  {
   "cell_type": "code",
   "execution_count": 31,
   "metadata": {},
   "outputs": [],
   "source": [
    "X_zeros_batch = next(X_zeros)\n",
    "X_ones_batch = next(X_ones)"
   ]
  },
  {
   "cell_type": "code",
   "execution_count": 32,
   "metadata": {},
   "outputs": [],
   "source": [
    "model = autoencoder"
   ]
  },
  {
   "cell_type": "code",
   "execution_count": 33,
   "metadata": {},
   "outputs": [],
   "source": [
    "latent_zeros_list = model.get_latent_vector(X_zeros_batch)\n",
    "latent_ones_list = model.get_latent_vector(X_ones_batch)"
   ]
  },
  {
   "cell_type": "code",
   "execution_count": 34,
   "metadata": {},
   "outputs": [],
   "source": [
    "for X_zeros_batch in X_zeros:\n",
    "    zeros_sample = model.get_latent_vector(X_zeros_batch)\n",
    "    latent_zeros_list = torch.vstack((latent_zeros_list, zeros_sample))\n",
    "    \n",
    "for X_ones_batch in X_ones:\n",
    "    ones_sample = model.get_latent_vector(X_ones_batch)\n",
    "    latent_ones_list = torch.vstack((latent_ones_list, ones_sample))"
   ]
  },
  {
   "cell_type": "code",
   "execution_count": 35,
   "metadata": {},
   "outputs": [
    {
     "data": {
      "text/plain": [
       "torch.Size([78796, 16])"
      ]
     },
     "execution_count": 35,
     "metadata": {},
     "output_type": "execute_result"
    }
   ],
   "source": [
    "latent_zeros_list.shape"
   ]
  },
  {
   "cell_type": "code",
   "execution_count": 36,
   "metadata": {},
   "outputs": [
    {
     "data": {
      "text/plain": [
       "torch.Size([13551, 16])"
      ]
     },
     "execution_count": 36,
     "metadata": {},
     "output_type": "execute_result"
    }
   ],
   "source": [
    "latent_ones_list.shape"
   ]
  },
  {
   "cell_type": "code",
   "execution_count": 37,
   "metadata": {},
   "outputs": [
    {
     "data": {
      "text/plain": [
       "(tensor([ 7.4220e+01,  8.2660e+01,  9.6124e+01, -1.3205e-05,  1.5969e+00,\n",
       "         -8.4742e-10, -1.1743e-04, -3.2718e-07,  4.2765e+01, -5.1407e-10,\n",
       "          2.6653e+01, -2.1836e-12, -8.4435e-07,  1.1270e+02, -5.9054e-05,\n",
       "          1.5618e-01], grad_fn=<MeanBackward1>),\n",
       " tensor([ 6.9811e+01,  7.9976e+01,  9.2517e+01, -1.9526e-04,  1.6097e+00,\n",
       "         -1.0391e-07, -1.5607e-04, -5.8034e-06,  4.2510e+01, -3.6711e-08,\n",
       "          2.5702e+01, -4.9125e-09, -1.2639e-05,  1.0697e+02, -2.7299e-04,\n",
       "          6.4371e-01], grad_fn=<MeanBackward1>))"
      ]
     },
     "execution_count": 37,
     "metadata": {},
     "output_type": "execute_result"
    }
   ],
   "source": [
    "mean_zeros = latent_zeros_list.mean(dim=0)\n",
    "mean_ones = latent_ones_list.mean(dim=0)\n",
    "mean_zeros, mean_ones # по два нуля"
   ]
  },
  {
   "cell_type": "code",
   "execution_count": 38,
   "metadata": {},
   "outputs": [],
   "source": [
    "from scipy import spatial"
   ]
  },
  {
   "cell_type": "code",
   "execution_count": 39,
   "metadata": {},
   "outputs": [],
   "source": [
    "SMOOTH = 1e-6"
   ]
  },
  {
   "cell_type": "code",
   "execution_count": 40,
   "metadata": {},
   "outputs": [],
   "source": [
    "def cosine(a, b):\n",
    "    num = (a * b).sum()\n",
    "    den = (a**2).sum().sqrt() * (b**2).sum().sqrt()\n",
    "    return num / (den + SMOOTH)"
   ]
  },
  {
   "cell_type": "code",
   "execution_count": 41,
   "metadata": {},
   "outputs": [
    {
     "data": {
      "text/plain": [
       "(15250, 143)"
      ]
     },
     "execution_count": 41,
     "metadata": {},
     "output_type": "execute_result"
    }
   ],
   "source": [
    "X_test.shape"
   ]
  },
  {
   "cell_type": "code",
   "execution_count": 42,
   "metadata": {},
   "outputs": [],
   "source": [
    "test_loader = torch.utils.data.DataLoader(torch.FloatTensor(X_test), batch_size=15250)\n",
    "y_test_loader = torch.utils.data.DataLoader(torch.FloatTensor(y_test), batch_size=15250)"
   ]
  },
  {
   "cell_type": "code",
   "execution_count": 43,
   "metadata": {},
   "outputs": [],
   "source": [
    "def cos_dist(X_batch, y):\n",
    "    X_batch = iter(X_batch)\n",
    "    x = next(X_batch)\n",
    "    res = cosine(x, y)\n",
    "    \n",
    "    for x in X_batch:\n",
    "        res = torch.vstack((res, cosine(x, y)))\n",
    "        \n",
    "    return res"
   ]
  },
  {
   "cell_type": "code",
   "execution_count": 44,
   "metadata": {},
   "outputs": [],
   "source": [
    "for X_batch, y_batch in zip(test_loader, y_test_loader):\n",
    "    output = model.get_latent_vector(X_batch)\n",
    "#     print(output)\n",
    "    preds_zeros = cos_dist(output.detach(), mean_zeros.detach())\n",
    "    preds_ones = cos_dist(output.detach(), mean_ones.detach())\n",
    "    preds = torch.hstack((preds_ones, preds_zeros)) / (preds_zeros + preds_ones)\n",
    "    break"
   ]
  },
  {
   "cell_type": "code",
   "execution_count": 45,
   "metadata": {
    "scrolled": false
   },
   "outputs": [],
   "source": [
    "preds = preds.detach().cpu().numpy()"
   ]
  },
  {
   "cell_type": "code",
   "execution_count": 46,
   "metadata": {},
   "outputs": [
    {
     "data": {
      "text/plain": [
       "(15250,)"
      ]
     },
     "execution_count": 46,
     "metadata": {},
     "output_type": "execute_result"
    }
   ],
   "source": [
    "preds[:,0].shape"
   ]
  },
  {
   "cell_type": "code",
   "execution_count": 47,
   "metadata": {},
   "outputs": [],
   "source": [
    "test_auc = roc_auc_score(y_batch, preds[:,0])"
   ]
  },
  {
   "cell_type": "code",
   "execution_count": 48,
   "metadata": {},
   "outputs": [],
   "source": [
    "fpr, tpr, th = roc_curve(y_batch, preds[:,0])\n",
    "gmeans = np.sqrt(tpr * (1-fpr))\n",
    "ix = argmax(gmeans)"
   ]
  },
  {
   "cell_type": "code",
   "execution_count": 49,
   "metadata": {},
   "outputs": [
    {
     "data": {
      "image/png": "[encoded data removed]",
      "text/plain": [
       "<Figure size 720x504 with 1 Axes>"
      ]
     },
     "metadata": {},
     "output_type": "display_data"
    }
   ],
   "source": [
    "plt.figure(figsize=(10,7))\n",
    "plt.plot(*roc_curve(y_batch, preds[:,0])[:2], label='test AUC={:.4f}'.format(test_auc))\n",
    "legend_box = plt.legend(fontsize='large', framealpha=1).get_frame()\n",
    "plt.plot(fpr[ix], tpr[ix], marker='o', color='black', label='Best')\n",
    "legend_box.set_facecolor(\"white\")\n",
    "legend_box.set_edgecolor(\"black\")\n",
    "plt.plot(np.linspace(0,1,100), np.linspace(0,1,100))\n",
    "plt.xlabel('False Positive Rate')\n",
    "plt.ylabel('True Positive Rate')\n",
    "plt.show()"
   ]
  },
  {
   "cell_type": "markdown",
   "metadata": {},
   "source": [
    "1. F.mse_loss 40epoch 0.7765\n",
    "2. F.mse_loss 60epoch 0.7849\n",
    "\n",
    "3. nn.MSE 40epoch 0.7859\n",
    "4. nn.MSE 60epoch 0.8002\n",
    "\n",
    "5. nn.MSE 40epoch 0.8030 (silu)\n",
    "6. nn.MSE 60epoch 0.8014 (silu)"
   ]
  },
  {
   "cell_type": "code",
   "execution_count": 50,
   "metadata": {},
   "outputs": [
    {
     "name": "stdout",
     "output_type": "stream",
     "text": [
      "tensor([[-0.1271, -0.7117,  0.6435,  0.6977]])\n"
     ]
    }
   ],
   "source": [
    "from scipy import spatial\n",
    "import numpy as np\n",
    "\n",
    "a = torch.randn(1, 2)\n",
    "b = torch.randn(4, 2) # different row number, for the fun\n",
    "\n",
    "# Given that cos_sim(u, v) = dot(u, v) / (norm(u) * norm(v))\n",
    "#                          = dot(u / norm(u), v / norm(v))\n",
    "# We fist normalize the rows, before computing their dot products via transposition:\n",
    "a_norm = a / a.norm(dim=1)[:, None]\n",
    "b_norm = b / b.norm(dim=1)[:, None]\n",
    "res = torch.mm(a_norm, b_norm.transpose(0,1))\n",
    "print(res)\n",
    "#  0.9978 -0.9986 -0.9985\n",
    "# -0.8629  0.9172  0.9172\n"
   ]
  },
  {
   "cell_type": "code",
   "execution_count": 51,
   "metadata": {},
   "outputs": [
    {
     "data": {
      "text/plain": [
       "(tensor([[1.0046, 0.8370]]),\n",
       " tensor([[-1.1800,  1.0965],\n",
       "         [-0.2117, -2.1702],\n",
       "         [ 1.5296, -0.2738],\n",
       "         [ 0.0829,  1.0676]]))"
      ]
     },
     "execution_count": 51,
     "metadata": {},
     "output_type": "execute_result"
    }
   ],
   "source": [
    "a, b"
   ]
  },
  {
   "cell_type": "code",
   "execution_count": 52,
   "metadata": {},
   "outputs": [
    {
     "data": {
      "text/plain": [
       "(tensor([[0.7683, 0.6401]]), tensor([[0.7683, 0.6401]]))"
      ]
     },
     "execution_count": 52,
     "metadata": {},
     "output_type": "execute_result"
    }
   ],
   "source": [
    "a_norm, a / a.norm(dim=1)"
   ]
  },
  {
   "cell_type": "code",
   "execution_count": null,
   "metadata": {},
   "outputs": [],
   "source": []
  },
  {
   "cell_type": "code",
   "execution_count": 53,
   "metadata": {},
   "outputs": [
    {
     "name": "stdout",
     "output_type": "stream",
     "text": [
      "torch.Size([15250, 16])\n"
     ]
    }
   ],
   "source": [
    "for X_batch, y_batch in zip(test_loader, y_test_loader):\n",
    "    output = model.get_latent_vector(X_batch)\n",
    "    print(output.shape)\n",
    "    preds_zeros = cos_dist(output.detach(), mean_zeros.detach())\n",
    "    preds_ones = cos_dist(output.detach(), mean_ones.detach())\n",
    "    preds = torch.hstack((preds_ones, preds_zeros)) / (preds_zeros + preds_ones)\n",
    "    break"
   ]
  },
  {
   "cell_type": "code",
   "execution_count": null,
   "metadata": {},
   "outputs": [],
   "source": []
  },
  {
   "cell_type": "code",
   "execution_count": null,
   "metadata": {},
   "outputs": [],
   "source": []
  },
  {
   "cell_type": "code",
   "execution_count": null,
   "metadata": {},
   "outputs": [],
   "source": []
  },
  {
   "cell_type": "code",
   "execution_count": null,
   "metadata": {},
   "outputs": [],
   "source": []
  },
  {
   "cell_type": "code",
   "execution_count": null,
   "metadata": {},
   "outputs": [],
   "source": []
  }
 ],
 "metadata": {
  "kernelspec": {
   "display_name": "Python 3",
   "language": "python",
   "name": "python3"
  },
  "language_info": {
   "codemirror_mode": {
    "name": "ipython",
    "version": 3
   },
   "file_extension": ".py",
   "mimetype": "text/x-python",
   "name": "python",
   "nbconvert_exporter": "python",
   "pygments_lexer": "ipython3",
   "version": "3.7.6"
  }
 },
 "nbformat": 4,
 "nbformat_minor": 4
}
