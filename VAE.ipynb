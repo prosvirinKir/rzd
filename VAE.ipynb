{
 "cells": [
  {
   "cell_type": "code",
   "execution_count": 1,
   "metadata": {
    "id": "cE_kuPvHoh5h"
   },
   "outputs": [],
   "source": [
    "import torch\n",
    "import torch.nn as nn\n",
    "import torch.nn.functional as F\n",
    "import random\n",
    "import numpy as np\n",
    "import pandas as pd\n",
    "import matplotlib.pyplot as plt\n",
    "import warnings\n",
    "import seaborn as sns\n",
    "from datetime import datetime\n",
    "sns.set(style=\"whitegrid\", font_scale=1.4)\n",
    "warnings.filterwarnings('ignore')\n",
    "\n",
    "from sklearn.model_selection import train_test_split\n",
    "from sklearn.metrics import roc_auc_score, roc_curve\n",
    "from sklearn.manifold import TSNE\n",
    "from sklearn import preprocessing\n",
    "from sklearn.metrics import balanced_accuracy_score\n",
    "from sklearn.metrics import confusion_matrix\n",
    "from numpy import argmax\n",
    "from tqdm import trange\n",
    "\n",
    "random.seed(0)\n",
    "np.random.seed(0)\n",
    "torch.manual_seed(0)\n",
    "torch.cuda.manual_seed(0)\n",
    "torch.backends.cudnn.deterministic = True"
   ]
  },
  {
   "cell_type": "code",
   "execution_count": 2,
   "metadata": {
    "id": "s_uGqXkpoiBA"
   },
   "outputs": [],
   "source": [
    "df = pd.read_csv('Data_set.csv')"
   ]
  },
  {
   "cell_type": "code",
   "execution_count": 3,
   "metadata": {
    "id": "xBmk4WDKoiGE"
   },
   "outputs": [
    {
     "data": {
      "text/html": [
       "<div>\n",
       "<style scoped>\n",
       "    .dataframe tbody tr th:only-of-type {\n",
       "        vertical-align: middle;\n",
       "    }\n",
       "\n",
       "    .dataframe tbody tr th {\n",
       "        vertical-align: top;\n",
       "    }\n",
       "\n",
       "    .dataframe thead th {\n",
       "        text-align: right;\n",
       "    }\n",
       "</style>\n",
       "<table border=\"1\" class=\"dataframe\">\n",
       "  <thead>\n",
       "    <tr style=\"text-align: right;\">\n",
       "      <th></th>\n",
       "      <th>Unnamed: 0</th>\n",
       "      <th>MONTH</th>\n",
       "      <th>DAY</th>\n",
       "      <th>M</th>\n",
       "      <th>BALL</th>\n",
       "      <th>SPEED_RES_PAS</th>\n",
       "      <th>SPEED_RES_FRE</th>\n",
       "      <th>SPEED_RES_EMPTY</th>\n",
       "      <th>SPEED_NORM_PAS</th>\n",
       "      <th>SPEED_NORM_FRE</th>\n",
       "      <th>...</th>\n",
       "      <th>O_4</th>\n",
       "      <th>O_T</th>\n",
       "      <th>delta_OTS_2</th>\n",
       "      <th>delta_OTS_3</th>\n",
       "      <th>delta_OTS_4</th>\n",
       "      <th>delta_O_1</th>\n",
       "      <th>delta_O_2</th>\n",
       "      <th>delta_O_3</th>\n",
       "      <th>delta_O_4</th>\n",
       "      <th>delta_O_T</th>\n",
       "    </tr>\n",
       "  </thead>\n",
       "  <tbody>\n",
       "    <tr>\n",
       "      <th>0</th>\n",
       "      <td>5</td>\n",
       "      <td>1</td>\n",
       "      <td>19</td>\n",
       "      <td>1</td>\n",
       "      <td>10</td>\n",
       "      <td>1000</td>\n",
       "      <td>1000</td>\n",
       "      <td>1000</td>\n",
       "      <td>60</td>\n",
       "      <td>50</td>\n",
       "      <td>...</td>\n",
       "      <td>0</td>\n",
       "      <td>1</td>\n",
       "      <td>1</td>\n",
       "      <td>0</td>\n",
       "      <td>0</td>\n",
       "      <td>0</td>\n",
       "      <td>1</td>\n",
       "      <td>0</td>\n",
       "      <td>0</td>\n",
       "      <td>1</td>\n",
       "    </tr>\n",
       "    <tr>\n",
       "      <th>1</th>\n",
       "      <td>8</td>\n",
       "      <td>1</td>\n",
       "      <td>23</td>\n",
       "      <td>1</td>\n",
       "      <td>10</td>\n",
       "      <td>1000</td>\n",
       "      <td>1000</td>\n",
       "      <td>1000</td>\n",
       "      <td>140</td>\n",
       "      <td>90</td>\n",
       "      <td>...</td>\n",
       "      <td>0</td>\n",
       "      <td>1</td>\n",
       "      <td>-1</td>\n",
       "      <td>0</td>\n",
       "      <td>0</td>\n",
       "      <td>0</td>\n",
       "      <td>-1</td>\n",
       "      <td>0</td>\n",
       "      <td>0</td>\n",
       "      <td>-1</td>\n",
       "    </tr>\n",
       "    <tr>\n",
       "      <th>2</th>\n",
       "      <td>11</td>\n",
       "      <td>1</td>\n",
       "      <td>23</td>\n",
       "      <td>1</td>\n",
       "      <td>10</td>\n",
       "      <td>1000</td>\n",
       "      <td>1000</td>\n",
       "      <td>1000</td>\n",
       "      <td>160</td>\n",
       "      <td>90</td>\n",
       "      <td>...</td>\n",
       "      <td>0</td>\n",
       "      <td>0</td>\n",
       "      <td>-2</td>\n",
       "      <td>0</td>\n",
       "      <td>0</td>\n",
       "      <td>0</td>\n",
       "      <td>-2</td>\n",
       "      <td>0</td>\n",
       "      <td>0</td>\n",
       "      <td>-2</td>\n",
       "    </tr>\n",
       "    <tr>\n",
       "      <th>3</th>\n",
       "      <td>13</td>\n",
       "      <td>1</td>\n",
       "      <td>23</td>\n",
       "      <td>1</td>\n",
       "      <td>10</td>\n",
       "      <td>1000</td>\n",
       "      <td>1000</td>\n",
       "      <td>1000</td>\n",
       "      <td>160</td>\n",
       "      <td>90</td>\n",
       "      <td>...</td>\n",
       "      <td>0</td>\n",
       "      <td>0</td>\n",
       "      <td>0</td>\n",
       "      <td>0</td>\n",
       "      <td>0</td>\n",
       "      <td>0</td>\n",
       "      <td>0</td>\n",
       "      <td>0</td>\n",
       "      <td>0</td>\n",
       "      <td>0</td>\n",
       "    </tr>\n",
       "    <tr>\n",
       "      <th>4</th>\n",
       "      <td>15</td>\n",
       "      <td>1</td>\n",
       "      <td>23</td>\n",
       "      <td>1</td>\n",
       "      <td>10</td>\n",
       "      <td>1000</td>\n",
       "      <td>1000</td>\n",
       "      <td>1000</td>\n",
       "      <td>160</td>\n",
       "      <td>90</td>\n",
       "      <td>...</td>\n",
       "      <td>0</td>\n",
       "      <td>0</td>\n",
       "      <td>0</td>\n",
       "      <td>0</td>\n",
       "      <td>0</td>\n",
       "      <td>0</td>\n",
       "      <td>0</td>\n",
       "      <td>0</td>\n",
       "      <td>0</td>\n",
       "      <td>0</td>\n",
       "    </tr>\n",
       "  </tbody>\n",
       "</table>\n",
       "<p>5 rows × 146 columns</p>\n",
       "</div>"
      ],
      "text/plain": [
       "   Unnamed: 0  MONTH  DAY  M  BALL  SPEED_RES_PAS  SPEED_RES_FRE  \\\n",
       "0           5      1   19  1    10           1000           1000   \n",
       "1           8      1   23  1    10           1000           1000   \n",
       "2          11      1   23  1    10           1000           1000   \n",
       "3          13      1   23  1    10           1000           1000   \n",
       "4          15      1   23  1    10           1000           1000   \n",
       "\n",
       "   SPEED_RES_EMPTY  SPEED_NORM_PAS  SPEED_NORM_FRE  ...  O_4  O_T  \\\n",
       "0             1000              60              50  ...    0    1   \n",
       "1             1000             140              90  ...    0    1   \n",
       "2             1000             160              90  ...    0    0   \n",
       "3             1000             160              90  ...    0    0   \n",
       "4             1000             160              90  ...    0    0   \n",
       "\n",
       "   delta_OTS_2  delta_OTS_3  delta_OTS_4  delta_O_1  delta_O_2  delta_O_3  \\\n",
       "0            1            0            0          0          1          0   \n",
       "1           -1            0            0          0         -1          0   \n",
       "2           -2            0            0          0         -2          0   \n",
       "3            0            0            0          0          0          0   \n",
       "4            0            0            0          0          0          0   \n",
       "\n",
       "   delta_O_4  delta_O_T  \n",
       "0          0          1  \n",
       "1          0         -1  \n",
       "2          0         -2  \n",
       "3          0          0  \n",
       "4          0          0  \n",
       "\n",
       "[5 rows x 146 columns]"
      ]
     },
     "execution_count": 3,
     "metadata": {},
     "output_type": "execute_result"
    }
   ],
   "source": [
    "df.head()"
   ]
  },
  {
   "cell_type": "code",
   "execution_count": 4,
   "metadata": {
    "id": "CKxeYjLcoiOm"
   },
   "outputs": [],
   "source": [
    "# np_labels = np.array(df.TARGET)\n",
    "# x = df.drop(['TARGET', 'M', 'Unnamed: 0'], axis = 1).values #returns a numpy array\n",
    "# # Normalization\n",
    "# min_max_scaler = preprocessing.MinMaxScaler()\n",
    "# x_scaled = min_max_scaler.fit_transform(x)\n",
    "# df = pd.DataFrame(x_scaled)\n",
    "# np_df = df.values\n",
    "\n",
    "np_df = df.drop(['TARGET', 'M', 'Unnamed: 0'], axis = 1).values\n",
    "np_labels = np.array(df.TARGET)"
   ]
  },
  {
   "cell_type": "code",
   "execution_count": 5,
   "metadata": {
    "id": "pLquhbonkeB6"
   },
   "outputs": [],
   "source": [
    "# X_train, X_test, y_train, y_test = train_test_split(np_df, np_labels, test_size=0.2, random_state=10)\n",
    "\n",
    "blade = 92347 # Последние полгода\n",
    "\n",
    "# Разобьем на трейн-тест выборку\n",
    "X_train, X_test, y_train, y_test = np_df[:blade], np_df[blade:], np_labels[:blade], np_labels[blade:]"
   ]
  },
  {
   "cell_type": "code",
   "execution_count": 6,
   "metadata": {
    "id": "hXQjS_MZkeES"
   },
   "outputs": [],
   "source": [
    "X_train = torch.FloatTensor(X_train) \n",
    "y_train = torch.FloatTensor(y_train) \n",
    "\n",
    "X_test = torch.FloatTensor(X_test) \n",
    "y_test = torch.FloatTensor(y_test)"
   ]
  },
  {
   "cell_type": "code",
   "execution_count": 7,
   "metadata": {
    "id": "8lCVTaqXkeGp"
   },
   "outputs": [],
   "source": [
    "train_loader = torch.utils.data.DataLoader(X_train, batch_size=128)\n",
    "test_loader = torch.utils.data.DataLoader(X_test, batch_size=128)"
   ]
  },
  {
   "cell_type": "code",
   "execution_count": 8,
   "metadata": {
    "id": "dwS9Xg6LkeI5"
   },
   "outputs": [],
   "source": [
    "dim_code=2"
   ]
  },
  {
   "cell_type": "code",
   "execution_count": 9,
   "metadata": {
    "id": "XZQcMj6qkeLK"
   },
   "outputs": [],
   "source": [
    "class VAE(nn.Module):\n",
    "    def __init__(self):\n",
    "        super(VAE, self).__init__()\n",
    " \n",
    "        # encoder\n",
    "        self.encoder = nn.Sequential(\n",
    "            nn.Linear(in_features=143, out_features=64),\n",
    "            nn.ReLU(),\n",
    "            nn.Linear(in_features=64, out_features=32),\n",
    "            nn.ReLU(),\n",
    "            nn.Linear(in_features=32, out_features=2*dim_code),\n",
    "            nn.ReLU()\n",
    "        )\n",
    " \n",
    "        # decoder \n",
    "        self.decoder = nn.Sequential(\n",
    "            nn.Linear(in_features=dim_code, out_features=32),\n",
    "            nn.ReLU(),\n",
    "            nn.Linear(in_features=32, out_features=64),\n",
    "            nn.ReLU(),\n",
    "            nn.Linear(in_features=64, out_features=143),\n",
    "            nn.Sigmoid()\n",
    "        )\n",
    "        \n",
    "    def encode(self, x):\n",
    "        x = x.float()\n",
    "        x = self.encoder(x)\n",
    "        mu, logsigma = torch.split(x, dim_code, dim=1)\n",
    "        return mu, logsigma\n",
    "    \n",
    "    def gaussian_sampler(self, mu, logsigma):\n",
    "        if self.training:\n",
    "            std = torch.exp(logsigma)\n",
    "            eps = torch.randn_like(std)\n",
    "            sample = eps * std + mu\n",
    "            return sample\n",
    "        else:\n",
    "            return mu\n",
    "    \n",
    "    def decode(self, z):\n",
    "        reconstruction = self.decoder(z)\n",
    "        return reconstruction\n",
    "\n",
    "    def forward(self, x):\n",
    "        mu, logsigma = self.encode(x)\n",
    "        latent_code = self.gaussian_sampler(mu, logsigma)\n",
    "        reconstruction = self.decoder(latent_code)\n",
    "        return mu, logsigma, reconstruction\n",
    "\n",
    "    def get_latent_vector(self, x):\n",
    "        mu, logsigma = self.encode(x)\n",
    "        latent_code = self.gaussian_sampler(mu, logsigma)\n",
    "        return latent_code\n",
    "\n",
    "    def sample(self, x):\n",
    "        generated = self.decoder(x)\n",
    "        return generated"
   ]
  },
  {
   "cell_type": "code",
   "execution_count": 10,
   "metadata": {
    "id": "8vx1XpJ-keNk"
   },
   "outputs": [],
   "source": [
    "def train(model, optimizer, criterion, train_loader, val_loader, n_epochs=20):\n",
    "    train_losses = []\n",
    "    val_losses = []\n",
    "\n",
    "    for epoch in trange(n_epochs):\n",
    "        model.train()\n",
    "        train_losses_per_epoch = []\n",
    "        for X_batch in train_loader:\n",
    "#             print(X_batch.max(), X_batch.min())\n",
    "            optimizer.zero_grad()\n",
    "            mu, logsigma, reconstruction = model(X_batch.to(device))\n",
    "#             print('TRAIN', reconstruction)\n",
    "            loss = criterion(X_batch.to(device).float(), mu, logsigma, reconstruction)\n",
    "            loss.backward()\n",
    "            optimizer.step()\n",
    "            train_losses_per_epoch.append(loss.item())\n",
    "        \n",
    "#         print('LATENT =', model.get_latent_vector(X_batch.to(device))) # Тут не нули\n",
    "        \n",
    "        train_losses.append(np.mean(train_losses_per_epoch))\n",
    "\n",
    "        model.eval()\n",
    "        val_losses_per_epoch = []\n",
    "        with torch.no_grad():\n",
    "#             print(\"VALIDATION\")\n",
    "            for X_batch in val_loader:\n",
    "              mu, logsigma, reconstruction = model(X_batch.to(device))\n",
    "              loss = criterion(X_batch.to(device).float(), mu, logsigma, reconstruction)\n",
    "              val_losses_per_epoch.append(loss.item())\n",
    "#             print('LATENT =', model.get_latent_vector(X_batch.to(device)))\n",
    "        val_losses.append(np.mean(val_losses_per_epoch))\n",
    "\n",
    "    return train_losses, val_losses"
   ]
  },
  {
   "cell_type": "code",
   "execution_count": 11,
   "metadata": {
    "id": "iVXRjHWqkeSF"
   },
   "outputs": [],
   "source": [
    "device = 'cuda:0' if torch.cuda.is_available() else 'cpu'"
   ]
  },
  {
   "cell_type": "markdown",
   "metadata": {
    "id": "b_cPJD61oO6v"
   },
   "source": [
    "Общий лосс будет выглядеть так:\n",
    "\n",
    "$$\\mathcal{L} = -D_{KL}(q_{\\phi}(z|x)||p(z)) + \\log p_{\\theta}(x|z)$$\n",
    "\n",
    "Формула для KL-дивергенции:\n",
    "\n",
    "$$D_{KL} = -\\frac{1}{2}\\sum_{i=1}^{dimZ}(1+log(\\sigma_i^2)-\\mu_i^2-\\sigma_i^2)$$\n",
    "\n",
    "В качестве log-likelihood возьмем привычную нам кросс-энтропию."
   ]
  },
  {
   "cell_type": "code",
   "execution_count": 12,
   "metadata": {
    "id": "odRwCFIDkeXG"
   },
   "outputs": [],
   "source": [
    "def KL_divergence(mu, logsigma):\n",
    "    \"\"\"\n",
    "    часть функции потерь, которая отвечает за \"близость\" латентных представлений разных людей\n",
    "    \"\"\"\n",
    "    loss = -0.5 * torch.sum(1 + logsigma - mu**2 - torch.exp(logsigma))\n",
    "    return loss\n",
    "\n",
    "def log_likelihood(x, reconstruction):\n",
    "    \"\"\"\n",
    "    часть функции потерь, которая отвечает за качество реконструкции\n",
    "    \"\"\"\n",
    "#     loss = nn.MSELoss()\n",
    "    loss = nn.BCELoss(reduction='sum')\n",
    "#     print(loss(reconstruction, x), x.max())\n",
    "    return loss(reconstruction, x)\n",
    "\n",
    "def loss_vae(x, mu, logsigma, reconstruction):\n",
    "    KL = KL_divergence(mu, logsigma)\n",
    "    log = log_likelihood(x, reconstruction)\n",
    "#     print('KL =', KL)\n",
    "#     print('LOG =', log)\n",
    "    return KL + log"
   ]
  },
  {
   "cell_type": "code",
   "execution_count": 13,
   "metadata": {
    "id": "_3lXLmEikeZX"
   },
   "outputs": [],
   "source": [
    "criterion = loss_vae\n",
    "\n",
    "autoencoder = VAE().to(device)\n",
    "\n",
    "optimizer = torch.optim.Adam(autoencoder.parameters())"
   ]
  },
  {
   "cell_type": "code",
   "execution_count": 14,
   "metadata": {
    "id": "Idr-v1Whkebw"
   },
   "outputs": [
    {
     "name": "stderr",
     "output_type": "stream",
     "text": [
      "100%|██████████| 20/20 [00:17<00:00,  1.12it/s]\n"
     ]
    }
   ],
   "source": [
    "train_losses, val_losses = train(autoencoder, optimizer, criterion, \n",
    "    train_loader=test_loader, \n",
    "    val_loader=train_loader, \n",
    "    n_epochs=20)"
   ]
  },
  {
   "cell_type": "code",
   "execution_count": 15,
   "metadata": {
    "id": "-3FPLB9WkeeS"
   },
   "outputs": [
    {
     "data": {
      "image/png": "[encoded data removed]",
      "text/plain": [
       "<Figure size 864x576 with 1 Axes>"
      ]
     },
     "metadata": {},
     "output_type": "display_data"
    }
   ],
   "source": [
    "plt.figure(figsize=(12, 8))\n",
    "plt.plot(np.arange(len(train_losses)), train_losses, label='Train')\n",
    "# plt.plot(np.arange(len(val_losses)), val_losses, label='Validation')\n",
    "\n",
    "plt.xlabel('Epoch')\n",
    "plt.title('loss_vae')\n",
    "plt.legend()\n",
    "plt.show()"
   ]
  },
  {
   "cell_type": "code",
   "execution_count": 16,
   "metadata": {
    "id": "ch0djvkIkegr"
   },
   "outputs": [],
   "source": [
    "test_loader = torch.utils.data.DataLoader(X_test, batch_size=128)\n",
    "y_test_loader = torch.utils.data.DataLoader(y_test, batch_size=128)\n",
    "\n",
    "test_loader = iter(test_loader)\n",
    "y_test_loader = iter(y_test_loader)\n",
    "\n",
    "X_batch, y_batch = next(zip(test_loader, y_test_loader))"
   ]
  },
  {
   "cell_type": "code",
   "execution_count": 17,
   "metadata": {
    "id": "gCdBxPkokejL"
   },
   "outputs": [],
   "source": [
    "model = autoencoder\n",
    "latent_vector_list = model.get_latent_vector(X_batch.to(device))\n",
    "labels = y_batch.reshape(-1, 1)\n",
    "for X_batch, y_batch in zip(test_loader, y_test_loader):\n",
    "    batch_sample = model.get_latent_vector(X_batch.to(device))\n",
    "    latent_vector_list = torch.vstack((latent_vector_list, batch_sample))\n",
    "    labels = torch.vstack((labels, y_batch.reshape(-1, 1)))"
   ]
  },
  {
   "cell_type": "code",
   "execution_count": 18,
   "metadata": {
    "id": "UnG0rCyZkelz"
   },
   "outputs": [],
   "source": [
    "latent_vector_list = latent_vector_list.detach().cpu()\n",
    "labels = labels.detach().cpu()"
   ]
  },
  {
   "cell_type": "code",
   "execution_count": 19,
   "metadata": {
    "id": "E7Y_c8U6keoa"
   },
   "outputs": [
    {
     "data": {
      "text/plain": [
       "torch.int32"
      ]
     },
     "execution_count": 19,
     "metadata": {},
     "output_type": "execute_result"
    }
   ],
   "source": [
    "labels = labels.int()\n",
    "labels.dtype"
   ]
  },
  {
   "cell_type": "code",
   "execution_count": 20,
   "metadata": {
    "id": "zr10qToXkerB"
   },
   "outputs": [
    {
     "data": {
      "text/plain": [
       "(torch.Size([15250, 2]), torch.Size([15250, 1]))"
      ]
     },
     "execution_count": 20,
     "metadata": {},
     "output_type": "execute_result"
    }
   ],
   "source": [
    "latent_vector_list.shape, labels.shape"
   ]
  },
  {
   "cell_type": "code",
   "execution_count": 21,
   "metadata": {
    "id": "4xrd9qdOketV"
   },
   "outputs": [],
   "source": [
    "# X_embedded = TSNE(n_components=2).fit_transform(latent_vector_list)\n",
    "# X_embedded.shape"
   ]
  },
  {
   "cell_type": "code",
   "execution_count": 22,
   "metadata": {
    "id": "IpOEw8A1kev-"
   },
   "outputs": [],
   "source": [
    "# plt.figure(figsize=[20, 10])\n",
    "# graph = plt.scatter(X_embedded[:,0], X_embedded[:,1], c=labels.reshape(-1), cmap='summer')\n",
    "# plt.colorbar(graph)\n",
    "# plt.show()\n",
    "\n",
    "# plt.figure(figsize=[20, 10])\n",
    "# graph = plt.scatter(latent_vector_list[:,0], latent_vector_list[:,1], c=labels.reshape(-1), cmap='summer')\n",
    "# plt.colorbar(graph)\n",
    "# plt.show()"
   ]
  },
  {
   "cell_type": "markdown",
   "metadata": {
    "id": "dSD2oG_fnwZr"
   },
   "source": [
    "Посчитаем средний вектор (mu) латентного пространства для объектов у которых TARGET=1 и отдельно для TARGET=0."
   ]
  },
  {
   "cell_type": "code",
   "execution_count": 23,
   "metadata": {
    "id": "_fDRQyjskeym"
   },
   "outputs": [],
   "source": [
    "X_train, X_test, y_train, y_test = train_test_split(np_df, np_labels, test_size=0.2, random_state=10)\n",
    "\n",
    "# blade = 92347 # Последние полгода\n",
    "\n",
    "# # Разобьем на трейн-тест выборку\n",
    "# X_train, X_test, y_train, y_test = np_df[:blade], np_df[blade:], np_labels[:blade], np_labels[blade:]"
   ]
  },
  {
   "cell_type": "code",
   "execution_count": 24,
   "metadata": {
    "id": "IiakDEGYke06"
   },
   "outputs": [],
   "source": [
    "X_zeros = []\n",
    "X_ones = []\n",
    "\n",
    "for x, y in zip(X_train, y_train):\n",
    "    if y == 0:\n",
    "        X_zeros.append(x)\n",
    "    else:\n",
    "        X_ones.append(x)"
   ]
  },
  {
   "cell_type": "code",
   "execution_count": 25,
   "metadata": {
    "id": "Zl0GbLkzke3y"
   },
   "outputs": [],
   "source": [
    "X_zeros = torch.utils.data.DataLoader(torch.FloatTensor(X_zeros), batch_size=32)\n",
    "X_ones = torch.utils.data.DataLoader(torch.FloatTensor(X_ones), batch_size=32)"
   ]
  },
  {
   "cell_type": "code",
   "execution_count": 26,
   "metadata": {
    "id": "sjcQvCT2ke6f"
   },
   "outputs": [],
   "source": [
    "X_zeros = iter(X_zeros)\n",
    "X_ones = iter(X_ones)"
   ]
  },
  {
   "cell_type": "code",
   "execution_count": 27,
   "metadata": {
    "id": "vrA1K1iRke9C"
   },
   "outputs": [],
   "source": [
    "X_zeros_batch = next(X_zeros)\n",
    "X_ones_batch = next(X_ones)"
   ]
  },
  {
   "cell_type": "code",
   "execution_count": 28,
   "metadata": {
    "id": "kV9k4zFTke_s"
   },
   "outputs": [],
   "source": [
    "model = autoencoder"
   ]
  },
  {
   "cell_type": "code",
   "execution_count": 29,
   "metadata": {
    "id": "ZoB5G3QykfCU"
   },
   "outputs": [],
   "source": [
    "latent_zeros_list = model.get_latent_vector(X_zeros_batch)\n",
    "latent_ones_list = model.get_latent_vector(X_ones_batch)"
   ]
  },
  {
   "cell_type": "code",
   "execution_count": 30,
   "metadata": {
    "id": "4EdRksMlkfFG"
   },
   "outputs": [
    {
     "data": {
      "text/plain": [
       "(torch.Size([32, 2]), torch.Size([32, 2]))"
      ]
     },
     "execution_count": 30,
     "metadata": {},
     "output_type": "execute_result"
    }
   ],
   "source": [
    "latent_zeros_list.shape, latent_ones_list.shape"
   ]
  },
  {
   "cell_type": "code",
   "execution_count": 31,
   "metadata": {},
   "outputs": [
    {
     "data": {
      "text/plain": [
       "tensor([[ 0.0000,  6.2272],\n",
       "        [ 0.0000,  5.3701],\n",
       "        [ 0.0000,  6.2016],\n",
       "        [ 0.0000, 13.5732],\n",
       "        [ 0.0000,  6.2864],\n",
       "        [ 0.0000,  5.7197],\n",
       "        [ 0.0000,  5.7347],\n",
       "        [ 0.0000,  5.7294],\n",
       "        [ 0.0000,  5.6729],\n",
       "        [ 0.0000,  6.1512],\n",
       "        [ 0.0000,  6.5919],\n",
       "        [ 0.0000,  5.7145],\n",
       "        [ 0.0000,  5.6857],\n",
       "        [ 0.0000,  6.5963],\n",
       "        [ 0.0000,  5.6918],\n",
       "        [ 0.0000,  6.5656],\n",
       "        [ 0.0000,  5.6861],\n",
       "        [ 0.0000,  5.7035],\n",
       "        [ 0.0000,  6.2738],\n",
       "        [ 0.0000,  6.0734],\n",
       "        [ 0.0000,  5.6412],\n",
       "        [ 0.0000,  5.2818],\n",
       "        [ 0.0000,  6.1880],\n",
       "        [ 0.0000,  5.7453],\n",
       "        [ 0.0000,  6.2938],\n",
       "        [ 0.0000,  5.7048],\n",
       "        [ 0.0000,  5.7327],\n",
       "        [ 0.0000,  4.8854],\n",
       "        [ 0.0000,  6.4911],\n",
       "        [ 0.0000,  5.6932],\n",
       "        [ 0.0000,  6.2707],\n",
       "        [ 0.0000,  6.5164]], grad_fn=<SplitBackward>)"
      ]
     },
     "execution_count": 31,
     "metadata": {},
     "output_type": "execute_result"
    }
   ],
   "source": [
    "latent_zeros_list"
   ]
  },
  {
   "cell_type": "code",
   "execution_count": 32,
   "metadata": {
    "id": "8HPV3JdakfH-"
   },
   "outputs": [],
   "source": [
    "for X_zeros_batch in X_zeros:\n",
    "#     print(X_zeros_batch) тут все ок, не нули\n",
    "    zeros_sample = model.get_latent_vector(X_zeros_batch)\n",
    "#     print(zeros_sample) тут везде нули\n",
    "    latent_zeros_list = torch.vstack((latent_zeros_list, zeros_sample))\n",
    "    \n",
    "for X_ones_batch in X_ones:\n",
    "    ones_sample = model.get_latent_vector(X_ones_batch)\n",
    "    latent_ones_list = torch.vstack((latent_ones_list, ones_sample))"
   ]
  },
  {
   "cell_type": "code",
   "execution_count": 33,
   "metadata": {
    "id": "u1-Tso2ekfLK"
   },
   "outputs": [
    {
     "data": {
      "text/plain": [
       "(torch.Size([73748, 2]), torch.Size([12329, 2]))"
      ]
     },
     "execution_count": 33,
     "metadata": {},
     "output_type": "execute_result"
    }
   ],
   "source": [
    "latent_zeros_list.shape, latent_ones_list.shape"
   ]
  },
  {
   "cell_type": "code",
   "execution_count": 34,
   "metadata": {
    "id": "Awn3HNHMkfOX"
   },
   "outputs": [],
   "source": [
    "mean_zeros = latent_zeros_list.mean(dim=0)\n",
    "mean_ones = latent_ones_list.mean(dim=0)"
   ]
  },
  {
   "cell_type": "code",
   "execution_count": 35,
   "metadata": {
    "id": "Fk9Y25VYkfR0"
   },
   "outputs": [
    {
     "data": {
      "text/plain": [
       "(tensor([2.7492e-03, 6.9341e+00], grad_fn=<MeanBackward1>),\n",
       " tensor([0.0136, 6.8858], grad_fn=<MeanBackward1>))"
      ]
     },
     "execution_count": 35,
     "metadata": {},
     "output_type": "execute_result"
    }
   ],
   "source": [
    "mean_zeros, mean_ones"
   ]
  },
  {
   "cell_type": "code",
   "execution_count": 36,
   "metadata": {
    "id": "yuhtXbBWn9EN"
   },
   "outputs": [],
   "source": [
    "SMOOTH = 1e-6"
   ]
  },
  {
   "cell_type": "code",
   "execution_count": 37,
   "metadata": {
    "id": "XazmwiZPn9Hr"
   },
   "outputs": [],
   "source": [
    "def cosine(a, b):\n",
    "    num = (a * b).sum()\n",
    "    den = (a**2 + SMOOTH).sum().sqrt() * (b**2 + SMOOTH).sum().sqrt()\n",
    "    return num / (den )"
   ]
  },
  {
   "cell_type": "code",
   "execution_count": 38,
   "metadata": {
    "id": "FqUpfkMFn9Lu"
   },
   "outputs": [
    {
     "data": {
      "text/plain": [
       "(21520, 143)"
      ]
     },
     "execution_count": 38,
     "metadata": {},
     "output_type": "execute_result"
    }
   ],
   "source": [
    "X_test.shape"
   ]
  },
  {
   "cell_type": "code",
   "execution_count": 39,
   "metadata": {
    "id": "is2NmmNRn9PS"
   },
   "outputs": [],
   "source": [
    "test_loader = torch.utils.data.DataLoader(torch.FloatTensor(X_test), batch_size=15250)\n",
    "y_test_loader = torch.utils.data.DataLoader(torch.FloatTensor(y_test), batch_size=15250)\n",
    "\n",
    "# test_loader = torch.utils.data.DataLoader(torch.FloatTensor(X_train), batch_size=32)\n",
    "# y_test_loader = torch.utils.data.DataLoader(torch.FloatTensor(y_train), batch_size=32)"
   ]
  },
  {
   "cell_type": "code",
   "execution_count": 40,
   "metadata": {
    "id": "J6LtSU0sn9SS"
   },
   "outputs": [],
   "source": [
    "def cos_dist(X_batch, y):\n",
    "    X_batch = iter(X_batch)\n",
    "    x = next(X_batch)\n",
    "    res = cosine(x, y)\n",
    "    \n",
    "    for x in X_batch:\n",
    "        res = torch.vstack((res, cosine(x, y)))\n",
    "        \n",
    "    return res"
   ]
  },
  {
   "cell_type": "code",
   "execution_count": 41,
   "metadata": {
    "id": "2-6y16g3n9Vq"
   },
   "outputs": [],
   "source": [
    "for X_batch, y_batch in zip(test_loader, y_test_loader):\n",
    "#     print(X_batch)\n",
    "    output = model.get_latent_vector(X_batch)\n",
    "#     print(output)\n",
    "    preds_zeros = cos_dist(output.detach(), mean_zeros.detach())\n",
    "#     print(preds_zeros)\n",
    "    preds_ones = cos_dist(output.detach(), mean_ones.detach())\n",
    "#     print(preds_ones)\n",
    "    \n",
    "    # make probabilty in the range [0, 1]\n",
    "    preds = torch.hstack((preds_ones, preds_zeros)) / (preds_zeros + preds_ones)\n",
    "    break"
   ]
  },
  {
   "cell_type": "code",
   "execution_count": 42,
   "metadata": {
    "id": "ovU1N6win9ZD"
   },
   "outputs": [],
   "source": [
    "preds = preds.detach().cpu().numpy()"
   ]
  },
  {
   "cell_type": "code",
   "execution_count": 43,
   "metadata": {
    "id": "Ap8M7Qddn9cH"
   },
   "outputs": [
    {
     "data": {
      "text/plain": [
       "(15250,)"
      ]
     },
     "execution_count": 43,
     "metadata": {},
     "output_type": "execute_result"
    }
   ],
   "source": [
    "preds[:,0].shape"
   ]
  },
  {
   "cell_type": "code",
   "execution_count": 44,
   "metadata": {},
   "outputs": [
    {
     "data": {
      "text/plain": [
       "array([0.49999955, 0.49999952, 0.49999952, 0.49999955, 0.49999952,\n",
       "       0.49999952, 0.49999952, 0.49999952, 0.49999952, 0.49999955,\n",
       "       0.49999952, 0.49999955, 0.4999995 , 0.4999995 , 0.49999952,\n",
       "       0.49999952, 0.49999952, 0.49999955, 0.49999952, 0.4999995 ],\n",
       "      dtype=float32)"
      ]
     },
     "execution_count": 44,
     "metadata": {},
     "output_type": "execute_result"
    }
   ],
   "source": [
    "preds[100:120,0]"
   ]
  },
  {
   "cell_type": "code",
   "execution_count": 45,
   "metadata": {
    "id": "q-tBVpMXn9gt"
   },
   "outputs": [
    {
     "ename": "ValueError",
     "evalue": "Input contains NaN, infinity or a value too large for dtype('float32').",
     "output_type": "error",
     "traceback": [
      "\u001b[0;31m---------------------------------------------------------------------------\u001b[0m",
      "\u001b[0;31mValueError\u001b[0m                                Traceback (most recent call last)",
      "\u001b[0;32m<ipython-input-45-6d8cfbab5010>\u001b[0m in \u001b[0;36m<module>\u001b[0;34m\u001b[0m\n\u001b[0;32m----> 1\u001b[0;31m \u001b[0mtest_auc\u001b[0m \u001b[0;34m=\u001b[0m \u001b[0mroc_auc_score\u001b[0m\u001b[0;34m(\u001b[0m\u001b[0my_batch\u001b[0m\u001b[0;34m,\u001b[0m \u001b[0mpreds\u001b[0m\u001b[0;34m[\u001b[0m\u001b[0;34m:\u001b[0m\u001b[0;34m,\u001b[0m\u001b[0;36m0\u001b[0m\u001b[0;34m]\u001b[0m\u001b[0;34m)\u001b[0m\u001b[0;34m\u001b[0m\u001b[0;34m\u001b[0m\u001b[0m\n\u001b[0m",
      "\u001b[0;32m/Applications/anaconda3/lib/python3.7/site-packages/sklearn/utils/validation.py\u001b[0m in \u001b[0;36minner_f\u001b[0;34m(*args, **kwargs)\u001b[0m\n\u001b[1;32m     61\u001b[0m             \u001b[0mextra_args\u001b[0m \u001b[0;34m=\u001b[0m \u001b[0mlen\u001b[0m\u001b[0;34m(\u001b[0m\u001b[0margs\u001b[0m\u001b[0;34m)\u001b[0m \u001b[0;34m-\u001b[0m \u001b[0mlen\u001b[0m\u001b[0;34m(\u001b[0m\u001b[0mall_args\u001b[0m\u001b[0;34m)\u001b[0m\u001b[0;34m\u001b[0m\u001b[0;34m\u001b[0m\u001b[0m\n\u001b[1;32m     62\u001b[0m             \u001b[0;32mif\u001b[0m \u001b[0mextra_args\u001b[0m \u001b[0;34m<=\u001b[0m \u001b[0;36m0\u001b[0m\u001b[0;34m:\u001b[0m\u001b[0;34m\u001b[0m\u001b[0;34m\u001b[0m\u001b[0m\n\u001b[0;32m---> 63\u001b[0;31m                 \u001b[0;32mreturn\u001b[0m \u001b[0mf\u001b[0m\u001b[0;34m(\u001b[0m\u001b[0;34m*\u001b[0m\u001b[0margs\u001b[0m\u001b[0;34m,\u001b[0m \u001b[0;34m**\u001b[0m\u001b[0mkwargs\u001b[0m\u001b[0;34m)\u001b[0m\u001b[0;34m\u001b[0m\u001b[0;34m\u001b[0m\u001b[0m\n\u001b[0m\u001b[1;32m     64\u001b[0m \u001b[0;34m\u001b[0m\u001b[0m\n\u001b[1;32m     65\u001b[0m             \u001b[0;31m# extra_args > 0\u001b[0m\u001b[0;34m\u001b[0m\u001b[0;34m\u001b[0m\u001b[0;34m\u001b[0m\u001b[0m\n",
      "\u001b[0;32m/Applications/anaconda3/lib/python3.7/site-packages/sklearn/metrics/_ranking.py\u001b[0m in \u001b[0;36mroc_auc_score\u001b[0;34m(y_true, y_score, average, sample_weight, max_fpr, multi_class, labels)\u001b[0m\n\u001b[1;32m    522\u001b[0m     \u001b[0my_type\u001b[0m \u001b[0;34m=\u001b[0m \u001b[0mtype_of_target\u001b[0m\u001b[0;34m(\u001b[0m\u001b[0my_true\u001b[0m\u001b[0;34m)\u001b[0m\u001b[0;34m\u001b[0m\u001b[0;34m\u001b[0m\u001b[0m\n\u001b[1;32m    523\u001b[0m     \u001b[0my_true\u001b[0m \u001b[0;34m=\u001b[0m \u001b[0mcheck_array\u001b[0m\u001b[0;34m(\u001b[0m\u001b[0my_true\u001b[0m\u001b[0;34m,\u001b[0m \u001b[0mensure_2d\u001b[0m\u001b[0;34m=\u001b[0m\u001b[0;32mFalse\u001b[0m\u001b[0;34m,\u001b[0m \u001b[0mdtype\u001b[0m\u001b[0;34m=\u001b[0m\u001b[0;32mNone\u001b[0m\u001b[0;34m)\u001b[0m\u001b[0;34m\u001b[0m\u001b[0;34m\u001b[0m\u001b[0m\n\u001b[0;32m--> 524\u001b[0;31m     \u001b[0my_score\u001b[0m \u001b[0;34m=\u001b[0m \u001b[0mcheck_array\u001b[0m\u001b[0;34m(\u001b[0m\u001b[0my_score\u001b[0m\u001b[0;34m,\u001b[0m \u001b[0mensure_2d\u001b[0m\u001b[0;34m=\u001b[0m\u001b[0;32mFalse\u001b[0m\u001b[0;34m)\u001b[0m\u001b[0;34m\u001b[0m\u001b[0;34m\u001b[0m\u001b[0m\n\u001b[0m\u001b[1;32m    525\u001b[0m \u001b[0;34m\u001b[0m\u001b[0m\n\u001b[1;32m    526\u001b[0m     if y_type == \"multiclass\" or (y_type == \"binary\" and\n",
      "\u001b[0;32m/Applications/anaconda3/lib/python3.7/site-packages/sklearn/utils/validation.py\u001b[0m in \u001b[0;36minner_f\u001b[0;34m(*args, **kwargs)\u001b[0m\n\u001b[1;32m     61\u001b[0m             \u001b[0mextra_args\u001b[0m \u001b[0;34m=\u001b[0m \u001b[0mlen\u001b[0m\u001b[0;34m(\u001b[0m\u001b[0margs\u001b[0m\u001b[0;34m)\u001b[0m \u001b[0;34m-\u001b[0m \u001b[0mlen\u001b[0m\u001b[0;34m(\u001b[0m\u001b[0mall_args\u001b[0m\u001b[0;34m)\u001b[0m\u001b[0;34m\u001b[0m\u001b[0;34m\u001b[0m\u001b[0m\n\u001b[1;32m     62\u001b[0m             \u001b[0;32mif\u001b[0m \u001b[0mextra_args\u001b[0m \u001b[0;34m<=\u001b[0m \u001b[0;36m0\u001b[0m\u001b[0;34m:\u001b[0m\u001b[0;34m\u001b[0m\u001b[0;34m\u001b[0m\u001b[0m\n\u001b[0;32m---> 63\u001b[0;31m                 \u001b[0;32mreturn\u001b[0m \u001b[0mf\u001b[0m\u001b[0;34m(\u001b[0m\u001b[0;34m*\u001b[0m\u001b[0margs\u001b[0m\u001b[0;34m,\u001b[0m \u001b[0;34m**\u001b[0m\u001b[0mkwargs\u001b[0m\u001b[0;34m)\u001b[0m\u001b[0;34m\u001b[0m\u001b[0;34m\u001b[0m\u001b[0m\n\u001b[0m\u001b[1;32m     64\u001b[0m \u001b[0;34m\u001b[0m\u001b[0m\n\u001b[1;32m     65\u001b[0m             \u001b[0;31m# extra_args > 0\u001b[0m\u001b[0;34m\u001b[0m\u001b[0;34m\u001b[0m\u001b[0;34m\u001b[0m\u001b[0m\n",
      "\u001b[0;32m/Applications/anaconda3/lib/python3.7/site-packages/sklearn/utils/validation.py\u001b[0m in \u001b[0;36mcheck_array\u001b[0;34m(array, accept_sparse, accept_large_sparse, dtype, order, copy, force_all_finite, ensure_2d, allow_nd, ensure_min_samples, ensure_min_features, estimator)\u001b[0m\n\u001b[1;32m    719\u001b[0m         \u001b[0;32mif\u001b[0m \u001b[0mforce_all_finite\u001b[0m\u001b[0;34m:\u001b[0m\u001b[0;34m\u001b[0m\u001b[0;34m\u001b[0m\u001b[0m\n\u001b[1;32m    720\u001b[0m             _assert_all_finite(array,\n\u001b[0;32m--> 721\u001b[0;31m                                allow_nan=force_all_finite == 'allow-nan')\n\u001b[0m\u001b[1;32m    722\u001b[0m \u001b[0;34m\u001b[0m\u001b[0m\n\u001b[1;32m    723\u001b[0m     \u001b[0;32mif\u001b[0m \u001b[0mensure_min_samples\u001b[0m \u001b[0;34m>\u001b[0m \u001b[0;36m0\u001b[0m\u001b[0;34m:\u001b[0m\u001b[0;34m\u001b[0m\u001b[0;34m\u001b[0m\u001b[0m\n",
      "\u001b[0;32m/Applications/anaconda3/lib/python3.7/site-packages/sklearn/utils/validation.py\u001b[0m in \u001b[0;36m_assert_all_finite\u001b[0;34m(X, allow_nan, msg_dtype)\u001b[0m\n\u001b[1;32m    104\u001b[0m                     \u001b[0mmsg_err\u001b[0m\u001b[0;34m.\u001b[0m\u001b[0mformat\u001b[0m\u001b[0;34m\u001b[0m\u001b[0;34m\u001b[0m\u001b[0m\n\u001b[1;32m    105\u001b[0m                     (type_err,\n\u001b[0;32m--> 106\u001b[0;31m                      msg_dtype if msg_dtype is not None else X.dtype)\n\u001b[0m\u001b[1;32m    107\u001b[0m             )\n\u001b[1;32m    108\u001b[0m     \u001b[0;31m# for object dtype data, we only check for NaNs (GH-13254)\u001b[0m\u001b[0;34m\u001b[0m\u001b[0;34m\u001b[0m\u001b[0;34m\u001b[0m\u001b[0m\n",
      "\u001b[0;31mValueError\u001b[0m: Input contains NaN, infinity or a value too large for dtype('float32')."
     ]
    }
   ],
   "source": [
    "test_auc = roc_auc_score(y_batch, preds[:,0])"
   ]
  },
  {
   "cell_type": "code",
   "execution_count": null,
   "metadata": {
    "id": "BF2Joi-dn9k4"
   },
   "outputs": [],
   "source": [
    "fpr, tpr, th = roc_curve(y_batch, preds[:,0])\n",
    "gmeans = np.sqrt(tpr * (1-fpr))\n",
    "ix = argmax(gmeans)"
   ]
  },
  {
   "cell_type": "code",
   "execution_count": null,
   "metadata": {
    "id": "Cc589ngCn9pB"
   },
   "outputs": [],
   "source": [
    "plt.figure(figsize=(10,7))\n",
    "plt.plot(*roc_curve(y_batch, preds[:,0])[:2], label='test AUC={:.4f}'.format(test_auc))\n",
    "legend_box = plt.legend(fontsize='large', framealpha=1).get_frame()\n",
    "plt.plot(fpr[ix], tpr[ix], marker='o', color='black', label='Best')\n",
    "legend_box.set_facecolor(\"white\")\n",
    "legend_box.set_edgecolor(\"black\")\n",
    "plt.plot(np.linspace(0,1,100), np.linspace(0,1,100))\n",
    "plt.xlabel('False Positive Rate')\n",
    "plt.ylabel('True Positive Rate')\n",
    "plt.show()"
   ]
  },
  {
   "cell_type": "markdown",
   "metadata": {
    "id": "I9wLyfHUn9tS"
   },
   "source": [
    "Норм\n",
    "\n",
    "1. MSE 20epoch dim=6 nan\n",
    "2. BCE 20epoch dim=6 nan\n",
    "\n",
    "Везде наны, т.к. центрирует mu=0\n"
   ]
  },
  {
   "cell_type": "code",
   "execution_count": null,
   "metadata": {
    "id": "SA_iEggrn9xj"
   },
   "outputs": [],
   "source": []
  },
  {
   "cell_type": "code",
   "execution_count": null,
   "metadata": {
    "id": "21Vs5WEbn92B"
   },
   "outputs": [],
   "source": []
  },
  {
   "cell_type": "code",
   "execution_count": null,
   "metadata": {
    "id": "e3JPPPNQn96X"
   },
   "outputs": [],
   "source": [
    "Не норм"
   ]
  },
  {
   "cell_type": "code",
   "execution_count": null,
   "metadata": {},
   "outputs": [],
   "source": []
  },
  {
   "cell_type": "code",
   "execution_count": null,
   "metadata": {},
   "outputs": [],
   "source": []
  }
 ],
 "metadata": {
  "colab": {
   "collapsed_sections": [],
   "name": "Markdown Guide",
   "provenance": []
  },
  "kernelspec": {
   "display_name": "Python 3",
   "language": "python",
   "name": "python3"
  },
  "language_info": {
   "codemirror_mode": {
    "name": "ipython",
    "version": 3
   },
   "file_extension": ".py",
   "mimetype": "text/x-python",
   "name": "python",
   "nbconvert_exporter": "python",
   "pygments_lexer": "ipython3",
   "version": "3.7.6"
  }
 },
 "nbformat": 4,
 "nbformat_minor": 1
}
