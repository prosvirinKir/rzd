{
 "cells": [
  {
   "cell_type": "code",
   "execution_count": 1,
   "metadata": {
    "colab": {},
    "colab_type": "code",
    "id": "DWr6cvb9pS3J"
   },
   "outputs": [],
   "source": [
    "import torch\n",
    "import random\n",
    "import numpy as np\n",
    "import pandas as pd\n",
    "import matplotlib.pyplot as plt\n",
    "import warnings\n",
    "import seaborn as sns\n",
    "from datetime import datetime\n",
    "sns.set(style=\"whitegrid\", font_scale=1.4)\n",
    "warnings.filterwarnings('ignore')\n",
    "\n",
    "from sklearn.model_selection import train_test_split\n",
    "from sklearn.metrics import roc_auc_score, roc_curve\n",
    "from sklearn import preprocessing\n",
    "from sklearn.metrics import balanced_accuracy_score\n",
    "from sklearn.metrics import confusion_matrix\n",
    "from numpy import argmax\n",
    "from tqdm import trange\n",
    "\n",
    "random.seed(0)\n",
    "np.random.seed(0)\n",
    "torch.manual_seed(0)\n",
    "torch.cuda.manual_seed(0)\n",
    "torch.backends.cudnn.deterministic = True"
   ]
  },
  {
   "cell_type": "markdown",
   "metadata": {},
   "source": [
    "## Считаем данные и поделим на train, valid, test"
   ]
  },
  {
   "cell_type": "code",
   "execution_count": 32,
   "metadata": {
    "colab": {},
    "colab_type": "code",
    "id": "MqGQWTDIpS3R",
    "scrolled": false
   },
   "outputs": [],
   "source": [
    "df = pd.read_csv('Data_set.csv')"
   ]
  },
  {
   "cell_type": "code",
   "execution_count": 33,
   "metadata": {},
   "outputs": [
    {
     "data": {
      "text/html": [
       "<div>\n",
       "<style scoped>\n",
       "    .dataframe tbody tr th:only-of-type {\n",
       "        vertical-align: middle;\n",
       "    }\n",
       "\n",
       "    .dataframe tbody tr th {\n",
       "        vertical-align: top;\n",
       "    }\n",
       "\n",
       "    .dataframe thead th {\n",
       "        text-align: right;\n",
       "    }\n",
       "</style>\n",
       "<table border=\"1\" class=\"dataframe\">\n",
       "  <thead>\n",
       "    <tr style=\"text-align: right;\">\n",
       "      <th></th>\n",
       "      <th>Unnamed: 0</th>\n",
       "      <th>MONTH</th>\n",
       "      <th>DAY</th>\n",
       "      <th>M</th>\n",
       "      <th>BALL</th>\n",
       "      <th>SPEED_RES_PAS</th>\n",
       "      <th>SPEED_RES_FRE</th>\n",
       "      <th>SPEED_RES_EMPTY</th>\n",
       "      <th>SPEED_NORM_PAS</th>\n",
       "      <th>SPEED_NORM_FRE</th>\n",
       "      <th>...</th>\n",
       "      <th>O_4</th>\n",
       "      <th>O_T</th>\n",
       "      <th>delta_OTS_2</th>\n",
       "      <th>delta_OTS_3</th>\n",
       "      <th>delta_OTS_4</th>\n",
       "      <th>delta_O_1</th>\n",
       "      <th>delta_O_2</th>\n",
       "      <th>delta_O_3</th>\n",
       "      <th>delta_O_4</th>\n",
       "      <th>delta_O_T</th>\n",
       "    </tr>\n",
       "  </thead>\n",
       "  <tbody>\n",
       "    <tr>\n",
       "      <th>0</th>\n",
       "      <td>5</td>\n",
       "      <td>1</td>\n",
       "      <td>19</td>\n",
       "      <td>1</td>\n",
       "      <td>10</td>\n",
       "      <td>1000</td>\n",
       "      <td>1000</td>\n",
       "      <td>1000</td>\n",
       "      <td>60</td>\n",
       "      <td>50</td>\n",
       "      <td>...</td>\n",
       "      <td>0</td>\n",
       "      <td>1</td>\n",
       "      <td>1</td>\n",
       "      <td>0</td>\n",
       "      <td>0</td>\n",
       "      <td>0</td>\n",
       "      <td>1</td>\n",
       "      <td>0</td>\n",
       "      <td>0</td>\n",
       "      <td>1</td>\n",
       "    </tr>\n",
       "    <tr>\n",
       "      <th>1</th>\n",
       "      <td>8</td>\n",
       "      <td>1</td>\n",
       "      <td>23</td>\n",
       "      <td>1</td>\n",
       "      <td>10</td>\n",
       "      <td>1000</td>\n",
       "      <td>1000</td>\n",
       "      <td>1000</td>\n",
       "      <td>140</td>\n",
       "      <td>90</td>\n",
       "      <td>...</td>\n",
       "      <td>0</td>\n",
       "      <td>1</td>\n",
       "      <td>-1</td>\n",
       "      <td>0</td>\n",
       "      <td>0</td>\n",
       "      <td>0</td>\n",
       "      <td>-1</td>\n",
       "      <td>0</td>\n",
       "      <td>0</td>\n",
       "      <td>-1</td>\n",
       "    </tr>\n",
       "    <tr>\n",
       "      <th>2</th>\n",
       "      <td>11</td>\n",
       "      <td>1</td>\n",
       "      <td>23</td>\n",
       "      <td>1</td>\n",
       "      <td>10</td>\n",
       "      <td>1000</td>\n",
       "      <td>1000</td>\n",
       "      <td>1000</td>\n",
       "      <td>160</td>\n",
       "      <td>90</td>\n",
       "      <td>...</td>\n",
       "      <td>0</td>\n",
       "      <td>0</td>\n",
       "      <td>-2</td>\n",
       "      <td>0</td>\n",
       "      <td>0</td>\n",
       "      <td>0</td>\n",
       "      <td>-2</td>\n",
       "      <td>0</td>\n",
       "      <td>0</td>\n",
       "      <td>-2</td>\n",
       "    </tr>\n",
       "    <tr>\n",
       "      <th>3</th>\n",
       "      <td>13</td>\n",
       "      <td>1</td>\n",
       "      <td>23</td>\n",
       "      <td>1</td>\n",
       "      <td>10</td>\n",
       "      <td>1000</td>\n",
       "      <td>1000</td>\n",
       "      <td>1000</td>\n",
       "      <td>160</td>\n",
       "      <td>90</td>\n",
       "      <td>...</td>\n",
       "      <td>0</td>\n",
       "      <td>0</td>\n",
       "      <td>0</td>\n",
       "      <td>0</td>\n",
       "      <td>0</td>\n",
       "      <td>0</td>\n",
       "      <td>0</td>\n",
       "      <td>0</td>\n",
       "      <td>0</td>\n",
       "      <td>0</td>\n",
       "    </tr>\n",
       "    <tr>\n",
       "      <th>4</th>\n",
       "      <td>15</td>\n",
       "      <td>1</td>\n",
       "      <td>23</td>\n",
       "      <td>1</td>\n",
       "      <td>10</td>\n",
       "      <td>1000</td>\n",
       "      <td>1000</td>\n",
       "      <td>1000</td>\n",
       "      <td>160</td>\n",
       "      <td>90</td>\n",
       "      <td>...</td>\n",
       "      <td>0</td>\n",
       "      <td>0</td>\n",
       "      <td>0</td>\n",
       "      <td>0</td>\n",
       "      <td>0</td>\n",
       "      <td>0</td>\n",
       "      <td>0</td>\n",
       "      <td>0</td>\n",
       "      <td>0</td>\n",
       "      <td>0</td>\n",
       "    </tr>\n",
       "  </tbody>\n",
       "</table>\n",
       "<p>5 rows × 146 columns</p>\n",
       "</div>"
      ],
      "text/plain": [
       "   Unnamed: 0  MONTH  DAY  M  BALL  SPEED_RES_PAS  SPEED_RES_FRE  \\\n",
       "0           5      1   19  1    10           1000           1000   \n",
       "1           8      1   23  1    10           1000           1000   \n",
       "2          11      1   23  1    10           1000           1000   \n",
       "3          13      1   23  1    10           1000           1000   \n",
       "4          15      1   23  1    10           1000           1000   \n",
       "\n",
       "   SPEED_RES_EMPTY  SPEED_NORM_PAS  SPEED_NORM_FRE  ...  O_4  O_T  \\\n",
       "0             1000              60              50  ...    0    1   \n",
       "1             1000             140              90  ...    0    1   \n",
       "2             1000             160              90  ...    0    0   \n",
       "3             1000             160              90  ...    0    0   \n",
       "4             1000             160              90  ...    0    0   \n",
       "\n",
       "   delta_OTS_2  delta_OTS_3  delta_OTS_4  delta_O_1  delta_O_2  delta_O_3  \\\n",
       "0            1            0            0          0          1          0   \n",
       "1           -1            0            0          0         -1          0   \n",
       "2           -2            0            0          0         -2          0   \n",
       "3            0            0            0          0          0          0   \n",
       "4            0            0            0          0          0          0   \n",
       "\n",
       "   delta_O_4  delta_O_T  \n",
       "0          0          1  \n",
       "1          0         -1  \n",
       "2          0         -2  \n",
       "3          0          0  \n",
       "4          0          0  \n",
       "\n",
       "[5 rows x 146 columns]"
      ]
     },
     "execution_count": 33,
     "metadata": {},
     "output_type": "execute_result"
    }
   ],
   "source": [
    "df.head()"
   ]
  },
  {
   "cell_type": "markdown",
   "metadata": {},
   "source": [
    "# Пишем сетку"
   ]
  },
  {
   "cell_type": "code",
   "execution_count": 34,
   "metadata": {},
   "outputs": [],
   "source": [
    "np_labels = np.array(df.TARGET)"
   ]
  },
  {
   "cell_type": "code",
   "execution_count": 35,
   "metadata": {},
   "outputs": [],
   "source": [
    "x = df.drop(['TARGET', 'M', 'Unnamed: 0'], axis = 1).values #returns a numpy array\n",
    "min_max_scaler = preprocessing.MinMaxScaler()\n",
    "x_scaled = min_max_scaler.fit_transform(x)\n",
    "df = pd.DataFrame(x_scaled)\n",
    "np_df = df.values"
   ]
  },
  {
   "cell_type": "code",
   "execution_count": null,
   "metadata": {},
   "outputs": [],
   "source": []
  },
  {
   "cell_type": "code",
   "execution_count": 36,
   "metadata": {},
   "outputs": [],
   "source": [
    "blade = 92347 # Последние полгода\n",
    "X, X_test, y, y_test = np_df[:blade], np_df[blade:], np_labels[:blade], np_labels[blade:] # train_test_split(np_df, np_labels, test_size=0.2, random_state=10)\n",
    "X_train, X_valid, y_train, y_valid = train_test_split(X, y, test_size=0.2, random_state=10)"
   ]
  },
  {
   "cell_type": "markdown",
   "metadata": {},
   "source": [
    "Переведем все в torch.tensor"
   ]
  },
  {
   "cell_type": "code",
   "execution_count": 37,
   "metadata": {},
   "outputs": [],
   "source": [
    "X_train_t = torch.FloatTensor(X_train) \n",
    "y_train_t = torch.FloatTensor(y_train) \n",
    "X_test_t = torch.FloatTensor(X_test) \n",
    "y_test_t = torch.FloatTensor(y_test) \n",
    "X_valid_t = torch.FloatTensor(X_valid) \n",
    "y_valid_t = torch.FloatTensor(y_valid) "
   ]
  },
  {
   "cell_type": "code",
   "execution_count": 38,
   "metadata": {},
   "outputs": [
    {
     "data": {
      "text/plain": [
       "(torch.Size([18470, 143]), torch.Size([73877, 143]), torch.Size([15250, 143]))"
      ]
     },
     "execution_count": 38,
     "metadata": {},
     "output_type": "execute_result"
    }
   ],
   "source": [
    "X_valid_t.shape, X_train_t.shape, X_test_t.size()"
   ]
  },
  {
   "cell_type": "markdown",
   "metadata": {},
   "source": [
    "## Напишем класс"
   ]
  },
  {
   "cell_type": "code",
   "execution_count": 39,
   "metadata": {},
   "outputs": [],
   "source": [
    "class RZDNet(torch.nn.Module):\n",
    "    def __init__(self, in_features, n_hidden_neurons):\n",
    "        super(RZDNet, self).__init__()\n",
    "        self.fc1 = torch.nn.Linear(in_features, n_hidden_neurons)\n",
    "        self.ac1 = torch.nn.ReLU()\n",
    "        self.fc2 = torch.nn.Linear(n_hidden_neurons, n_hidden_neurons) \n",
    "        self.ac2 = torch.nn.ReLU()\n",
    "        self.fc3 = torch.nn.Linear(n_hidden_neurons, n_hidden_neurons) \n",
    "        self.ac3 = torch.nn.ReLU()\n",
    "        self.fc4 = torch.nn.Linear(n_hidden_neurons, 1) \n",
    "        self.ac4 = torch.nn.Sigmoid()\n",
    "        \n",
    "        \n",
    "    def forward(self, x):\n",
    "        x = self.fc1(x)\n",
    "        x = self.ac1(x)\n",
    "        x = self.fc2(x)\n",
    "        x = self.ac2(x)\n",
    "        x = self.fc3(x)\n",
    "        x = self.ac3(x)\n",
    "        x = self.fc4(x)\n",
    "        x = self.ac4(x)\n",
    "        \n",
    "        return x"
   ]
  },
  {
   "cell_type": "markdown",
   "metadata": {},
   "source": [
    "При дальнейшем увеличении количества слоев и количества нейронов в слое, метрика roc_auc почти не дает прироста, поэтому пока остановился на этом варианте."
   ]
  },
  {
   "cell_type": "code",
   "execution_count": 40,
   "metadata": {},
   "outputs": [],
   "source": [
    "def get_best_threshold(y, y_pred):\n",
    "    y_pred = y_pred\n",
    "    fpr, tpr, th = roc_curve(y, y_pred)\n",
    "\n",
    "    # Геометрическое среднее\n",
    "    gmeans = np.sqrt(tpr * (1-fpr))\n",
    "    ix = argmax(gmeans)\n",
    "    best_thresh = th[ix]\n",
    "    \n",
    "    return best_thresh"
   ]
  },
  {
   "cell_type": "markdown",
   "metadata": {},
   "source": [
    "Всякие штуки, для работы на GPU (у меня по дефолту gpu)"
   ]
  },
  {
   "cell_type": "code",
   "execution_count": 41,
   "metadata": {
    "colab": {},
    "colab_type": "code",
    "id": "FJp7t3dR0pC5"
   },
   "outputs": [],
   "source": [
    "# torch.cuda.is_available()"
   ]
  },
  {
   "cell_type": "code",
   "execution_count": 42,
   "metadata": {
    "colab": {},
    "colab_type": "code",
    "id": "ShQDv_w-0rz8"
   },
   "outputs": [],
   "source": [
    "# !nvidia-smi"
   ]
  },
  {
   "cell_type": "code",
   "execution_count": 43,
   "metadata": {
    "colab": {},
    "colab_type": "code",
    "id": "iUHy-780po9d"
   },
   "outputs": [],
   "source": [
    "# device = torch.device('cuda:0' if torch.cuda.is_available() else 'cpu')\n",
    "# mnist_net = mnist_net.to(device)\n",
    "# list(mnist_net.parameters())"
   ]
  },
  {
   "cell_type": "code",
   "execution_count": 44,
   "metadata": {},
   "outputs": [],
   "source": [
    "rzd_net = RZDNet(X_train_t.shape[1], 50)"
   ]
  },
  {
   "cell_type": "code",
   "execution_count": 45,
   "metadata": {
    "colab": {},
    "colab_type": "code",
    "id": "00_2j2igpS3o"
   },
   "outputs": [],
   "source": [
    "loss = torch.nn.BCELoss()\n",
    "optimizer = torch.optim.Adam(rzd_net.parameters(), lr=1e-4)"
   ]
  },
  {
   "cell_type": "code",
   "execution_count": 46,
   "metadata": {
    "colab": {},
    "colab_type": "code",
    "id": "wZtqiGvfpS3r",
    "scrolled": false
   },
   "outputs": [
    {
     "name": "stderr",
     "output_type": "stream",
     "text": [
      "100%|██████████| 150/150 [00:26<00:00,  5.62it/s]\n"
     ]
    }
   ],
   "source": [
    "batch_size = 1000\n",
    "valid_accuracy_history = []\n",
    "valid_loss_history = []\n",
    "train_loss_history = []\n",
    "\n",
    "# X_test = X_test.to(device)\n",
    "# y_test = y_test.to(device)\n",
    "\n",
    "for epoch in trange(150):\n",
    "    order = np.random.permutation(len(X_train_t))\n",
    "    \n",
    "    history = {\n",
    "        'train_loss':[],\n",
    "        'val_loss':[],\n",
    "        'train_score':[],\n",
    "        'val_score':[]\n",
    "    }\n",
    "    \n",
    "    train_batch_loss_history = 0\n",
    "    for start_index in range(0, len(X_train_t), batch_size):\n",
    "        batch_indexes = order[start_index: start_index + batch_size]\n",
    "        \n",
    "        X_batch_t = X_train_t[batch_indexes] #.to(device)\n",
    "        y_batch_t = y_train_t[batch_indexes] #.to(device)\n",
    "\n",
    "        preds = rzd_net.forward(X_batch_t)   \n",
    "        preds = preds.flatten()\n",
    "        loss_value = loss(preds, y_batch_t)\n",
    "        \n",
    "        train_batch_loss_history += loss_value\n",
    "        loss_value.backward()\n",
    "        \n",
    "        optimizer.step()\n",
    "        optimizer.zero_grad()      \n",
    "        \n",
    "        \n",
    "    train_batch_loss_history /= batch_size\n",
    "    train_loss_history.append(train_batch_loss_history)\n",
    "    \n",
    "    with torch.no_grad():\n",
    "        y_valid_pred = rzd_net.forward(X_valid_t)\n",
    "        y_valid_pred = y_valid_pred.flatten()\n",
    "        valid_loss_history.append(loss(y_valid_pred, y_valid_t))\n",
    "\n",
    "        y_valid_pred = y_valid_pred.detach().numpy()\n",
    "        best_thresh = get_best_threshold(y_valid, y_valid_pred)    \n",
    "        valid_accuracy_history.append(\n",
    "            balanced_accuracy_score(y_valid.reshape(-1), (y_valid_pred  > best_thresh).astype(int)))\n",
    "\n",
    "#     print(f'Best Threshold={best_thresh:.4f}')\n",
    "#     print(f'balanced_score_{epoch}=: {balanced_accuracy_score(y_valid.reshape(-1), (y_valid_pred  > best_thresh).astype(int)):.4f}\\n')"
   ]
  },
  {
   "cell_type": "code",
   "execution_count": 47,
   "metadata": {
    "scrolled": false
   },
   "outputs": [
    {
     "data": {
      "image/png": "[encoded data removed]",
      "text/plain": [
       "<Figure size 720x504 with 1 Axes>"
      ]
     },
     "metadata": {},
     "output_type": "display_data"
    }
   ],
   "source": [
    "plt.figure(figsize=(10, 7))\n",
    "plt.plot(range(len(valid_loss_history)), valid_loss_history)\n",
    "plt.xlabel(\"Iteration\")\n",
    "plt.ylabel(\"Loss\")\n",
    "plt.show()"
   ]
  },
  {
   "cell_type": "code",
   "execution_count": 48,
   "metadata": {},
   "outputs": [
    {
     "data": {
      "image/png": "[encoded data removed]",
      "text/plain": [
       "<Figure size 720x504 with 1 Axes>"
      ]
     },
     "metadata": {},
     "output_type": "display_data"
    }
   ],
   "source": [
    "plt.figure(figsize=(10, 7))\n",
    "plt.plot(range(len(valid_accuracy_history)), valid_accuracy_history)\n",
    "plt.xlabel(\"Iteration\")\n",
    "plt.ylabel(\"Accuracy\")\n",
    "plt.show()"
   ]
  },
  {
   "cell_type": "markdown",
   "metadata": {},
   "source": [
    "## Построим ROC_AUC кривую"
   ]
  },
  {
   "cell_type": "code",
   "execution_count": 49,
   "metadata": {
    "colab": {},
    "colab_type": "code",
    "id": "-nu1318JpS3y"
   },
   "outputs": [],
   "source": [
    "y_test_pred = (rzd_net.forward(X_test_t).detach().numpy()) # > th).astype(int)\n",
    "y_train_pred = (rzd_net.forward(X_train_t).detach().numpy()) # > th).astype(int)"
   ]
  },
  {
   "cell_type": "code",
   "execution_count": 50,
   "metadata": {},
   "outputs": [],
   "source": [
    "train_auc = roc_auc_score(y_train, y_train_pred)\n",
    "test_auc = roc_auc_score(y_test, y_test_pred)"
   ]
  },
  {
   "cell_type": "code",
   "execution_count": 51,
   "metadata": {},
   "outputs": [],
   "source": [
    "fpr, tpr, th = roc_curve(y_train, y_train_pred)\n",
    "gmeans = np.sqrt(tpr * (1-fpr))\n",
    "ix = argmax(gmeans)"
   ]
  },
  {
   "cell_type": "code",
   "execution_count": 52,
   "metadata": {},
   "outputs": [
    {
     "data": {
      "image/png": "[encoded data removed]",
      "text/plain": [
       "<Figure size 720x504 with 1 Axes>"
      ]
     },
     "metadata": {},
     "output_type": "display_data"
    }
   ],
   "source": [
    "plt.figure(figsize=(10,7))\n",
    "plt.plot(*roc_curve(y_train, y_train_pred)[:2], label='train AUC={:.4f}'.format(train_auc))\n",
    "plt.plot(*roc_curve(y_test, y_test_pred)[:2], label='test AUC={:.4f}'.format(test_auc))\n",
    "legend_box = plt.legend(fontsize='large', framealpha=1).get_frame()\n",
    "plt.plot(fpr[ix], tpr[ix], marker='o', color='black', label='Best')\n",
    "legend_box.set_facecolor(\"white\")\n",
    "legend_box.set_edgecolor(\"black\")\n",
    "plt.plot(np.linspace(0,1,100), np.linspace(0,1,100))\n",
    "plt.xlabel('False Positive Rate')\n",
    "plt.ylabel('True Positive Rate')\n",
    "plt.show()"
   ]
  },
  {
   "cell_type": "code",
   "execution_count": null,
   "metadata": {},
   "outputs": [],
   "source": []
  },
  {
   "cell_type": "code",
   "execution_count": null,
   "metadata": {},
   "outputs": [],
   "source": []
  },
  {
   "cell_type": "markdown",
   "metadata": {},
   "source": [
    "## Сравним по приколу с sklearn"
   ]
  },
  {
   "cell_type": "code",
   "execution_count": null,
   "metadata": {},
   "outputs": [],
   "source": [
    "from sklearn.neural_network import MLPClassifier\n",
    "\n",
    "mlp = MLPClassifier(max_iter=100, hidden_layer_sizes=(100,100,100), activation='relu', solver='adam')\n",
    "mlp.fit(X_train, y_train)"
   ]
  },
  {
   "cell_type": "code",
   "execution_count": null,
   "metadata": {},
   "outputs": [],
   "source": [
    "#clf.best_params_ {'activation': 'relu', 'hidden_layer_sizes': (100, 100, 100), 'solver': 'adam'}"
   ]
  },
  {
   "cell_type": "code",
   "execution_count": null,
   "metadata": {},
   "outputs": [],
   "source": [
    "y_test_pred_MLP = mlp.predict_proba(X_test)[:,1]\n",
    "y_train_pred_MLP = mlp.predict_proba(X_train)[:,1]"
   ]
  },
  {
   "cell_type": "code",
   "execution_count": null,
   "metadata": {},
   "outputs": [],
   "source": [
    "y_test_pred.shape, y_test.shape, X_test.shape, y_test_pred_MLP.shape"
   ]
  },
  {
   "cell_type": "code",
   "execution_count": null,
   "metadata": {},
   "outputs": [],
   "source": [
    "train_auc = roc_auc_score(y_train, y_train_pred_MLP)\n",
    "test_auc = roc_auc_score(y_test, y_test_pred_MLP)\n",
    "train_auc, test_auc"
   ]
  },
  {
   "cell_type": "code",
   "execution_count": null,
   "metadata": {},
   "outputs": [],
   "source": [
    "plt.figure(figsize=(10,7))\n",
    "plt.plot(*roc_curve(y_train, y_train_pred_MLP)[:2], label='train AUC={:.4f}'.format(train_auc))\n",
    "plt.plot(*roc_curve(y_test, y_test_pred_MLP)[:2], label='test AUC={:.4f}'.format(test_auc))\n",
    "legend_box = plt.legend(fontsize='large', framealpha=1).get_frame()\n",
    "legend_box.set_facecolor(\"white\")\n",
    "legend_box.set_edgecolor(\"black\")\n",
    "plt.plot(np.linspace(0,1,100), np.linspace(0,1,100))\n",
    "plt.xlabel('False Positive Rate')\n",
    "plt.ylabel('True Positive Rate')\n",
    "plt.show()"
   ]
  },
  {
   "cell_type": "markdown",
   "metadata": {},
   "source": [
    "Получили тоже самое. Это хорошо:)"
   ]
  },
  {
   "cell_type": "markdown",
   "metadata": {},
   "source": [
    "## Covariate shift"
   ]
  },
  {
   "cell_type": "code",
   "execution_count": null,
   "metadata": {},
   "outputs": [],
   "source": [
    "np_df = df.drop(['TARGET', 'M', 'Unnamed: 0'], axis = 1).values\n",
    "np_labels = np.array(df.TARGET)"
   ]
  },
  {
   "cell_type": "code",
   "execution_count": null,
   "metadata": {},
   "outputs": [],
   "source": [
    "blade = 92347 # Последние полгода\n",
    "\n",
    "# Разобьем на трейн-тест выборку\n",
    "X_train, X_test, y_train, y_test = np_df[:blade], np_df[blade:], np_labels[:blade], np_labels[blade:]"
   ]
  },
  {
   "cell_type": "code",
   "execution_count": null,
   "metadata": {},
   "outputs": [],
   "source": [
    "train = pd.DataFrame(X_train)\n",
    "test = pd.DataFrame(X_test)"
   ]
  },
  {
   "cell_type": "code",
   "execution_count": null,
   "metadata": {},
   "outputs": [],
   "source": [
    "test['is_train'] = 0\n",
    "train['is_train'] = 1"
   ]
  },
  {
   "cell_type": "code",
   "execution_count": null,
   "metadata": {},
   "outputs": [],
   "source": [
    "#объединение выборок train, test\n",
    "df_combine = pd.concat([train, test], axis=0, ignore_index=True)\n",
    "\n",
    "y = df_combine['is_train'].values #индикатор источника \n",
    "x = df_combine.drop('is_train', axis=1).values #объединенный датасет"
   ]
  },
  {
   "cell_type": "code",
   "execution_count": null,
   "metadata": {},
   "outputs": [],
   "source": [
    "from sklearn.ensemble import RandomForestClassifier\n",
    "import numpy as np\n",
    "\n",
    "rfc = RandomForestClassifier(n_jobs=-1, max_depth=5, min_samples_leaf = 5)\n",
    "predictions = np.zeros(y.shape)"
   ]
  },
  {
   "cell_type": "code",
   "execution_count": null,
   "metadata": {},
   "outputs": [],
   "source": [
    "# Используем стратифицированное рандомизированное разбиение на 4 фолда. \n",
    "# Таким образом мы сохраним соотношение меток 'is_train' в каждом фолде, \n",
    "# как в исходной объединенной выборке. Для каждого разбиенения обучим \n",
    "# классификатор на большей части разбиения и предскажем метку класса для меньшей отложенной части.\n",
    "\n",
    "from sklearn.model_selection import StratifiedKFold, cross_val_score\n",
    "skf = StratifiedKFold(n_splits=4, shuffle=True, random_state=100)\n",
    "skf.split(x, y)\n",
    "for fold, (train_idx, test_idx) in enumerate(skf.split(x, y)):\n",
    "    X_train, X_test = x[train_idx], x[test_idx]\n",
    "    y_train, y_test = y[train_idx], y[test_idx]\n",
    " \n",
    "    rfc.fit(X_train, y_train)\n",
    "    probs = rfc.predict_proba(X_test)[:, 1] #предсказание вероятностей классов\n",
    "    predictions[test_idx] = probs"
   ]
  },
  {
   "cell_type": "code",
   "execution_count": null,
   "metadata": {},
   "outputs": [],
   "source": [
    "print('ROC-AUC:', roc_auc_score(y_true=y, y_score=predictions))"
   ]
  },
  {
   "cell_type": "code",
   "execution_count": null,
   "metadata": {},
   "outputs": [],
   "source": [
    "plt.figure(figsize=(10,7))\n",
    "plt.plot(*roc_curve(y, predictions)[:2], label='train AUC={:.4f}'.format(roc_auc_score(y, predictions)))\n",
    "legend_box = plt.legend(fontsize='large', framealpha=1).get_frame()\n",
    "legend_box.set_facecolor(\"white\")\n",
    "legend_box.set_edgecolor(\"black\")\n",
    "plt.plot(np.linspace(0,1,100), np.linspace(0,1,100))\n",
    "plt.xlabel('False Positive Rate')\n",
    "plt.ylabel('True Positive Rate')\n",
    "plt.title('Как хорошо отделяем train от test')\n",
    "plt.show()"
   ]
  },
  {
   "cell_type": "markdown",
   "metadata": {},
   "source": [
    "Без one-hot энкодддинга и без признака MONTH_ORDERED: ROC_AUC = 0.8973\n",
    "\n",
    "С ними: ROC_AUC = 0.9919\n",
    "\n",
    "### Вывод:\n",
    "Получается что One-hot энкоддинг + новый признак MONTH_ORDERED помогают не только увеличить скор, но также дают значительное улучшение при отделении train от test, что в принципе не удивительно."
   ]
  },
  {
   "cell_type": "markdown",
   "metadata": {},
   "source": [
    "## Теперь обучим на тех данных, которые похожи на test"
   ]
  },
  {
   "cell_type": "code",
   "execution_count": null,
   "metadata": {},
   "outputs": [],
   "source": [
    "train.shape, test.shape, np_df.shape, y_train.shape"
   ]
  },
  {
   "cell_type": "markdown",
   "metadata": {},
   "source": [
    "Снова разобьем на train test"
   ]
  },
  {
   "cell_type": "code",
   "execution_count": null,
   "metadata": {},
   "outputs": [],
   "source": [
    "X_train, X_test, y_train, y_test = np_df[:blade], np_df[blade:], np_labels[:blade], np_labels[blade:]"
   ]
  },
  {
   "cell_type": "markdown",
   "metadata": {},
   "source": [
    "Делаем маску с объектами, которые больше похожи на тестовую выборку. "
   ]
  },
  {
   "cell_type": "code",
   "execution_count": null,
   "metadata": {},
   "outputs": [],
   "source": [
    "mask = rfc.predict_proba(X_train)[:,1] > 0.8\n",
    "mask.shape"
   ]
  },
  {
   "cell_type": "code",
   "execution_count": null,
   "metadata": {},
   "outputs": [],
   "source": [
    "X_similar = X_train[mask]\n",
    "y_similar = y_train[mask]"
   ]
  },
  {
   "cell_type": "code",
   "execution_count": null,
   "metadata": {},
   "outputs": [],
   "source": [
    "X_similar.shape, y_similar.shape"
   ]
  },
  {
   "cell_type": "code",
   "execution_count": null,
   "metadata": {},
   "outputs": [],
   "source": [
    "mlp = MLPClassifier(max_iter=100, hidden_layer_sizes=(100,100,100), activation='relu', solver='adam')\n",
    "mlp.fit(X_similar, y_similar);"
   ]
  },
  {
   "cell_type": "code",
   "execution_count": null,
   "metadata": {},
   "outputs": [],
   "source": [
    "y_test_pred = mlp.predict_proba(X_test)[:,1]\n",
    "y_similar_pred = mlp.predict_proba(X_similar)[:,1]"
   ]
  },
  {
   "cell_type": "code",
   "execution_count": null,
   "metadata": {},
   "outputs": [],
   "source": [
    "train_auc = roc_auc_score(y_similar, y_similar_pred)\n",
    "test_auc = roc_auc_score(y_test, y_test_pred)"
   ]
  },
  {
   "cell_type": "code",
   "execution_count": null,
   "metadata": {},
   "outputs": [],
   "source": [
    "plt.figure(figsize=(10,7))\n",
    "plt.plot(*roc_curve(y_similar, y_similar_pred)[:2], label='train AUC={:.4f}'.format(train_auc))\n",
    "plt.plot(*roc_curve(y_test, y_test_pred)[:2], label='test AUC={:.4f}'.format(test_auc))\n",
    "legend_box = plt.legend(fontsize='large', framealpha=1).get_frame()\n",
    "legend_box.set_facecolor(\"white\")\n",
    "legend_box.set_edgecolor(\"black\")\n",
    "plt.plot(np.linspace(0,1,100), np.linspace(0,1,100))\n",
    "plt.xlabel('False Positive Rate')\n",
    "plt.ylabel('True Positive Rate')\n",
    "plt.show()"
   ]
  },
  {
   "cell_type": "markdown",
   "metadata": {},
   "source": [
    "Получилось что-то совсем странное. Как будто отказы предсказывает хорошо, а НЕотказы плохо (или наоборот)"
   ]
  },
  {
   "cell_type": "code",
   "execution_count": null,
   "metadata": {},
   "outputs": [],
   "source": []
  },
  {
   "cell_type": "code",
   "execution_count": null,
   "metadata": {},
   "outputs": [],
   "source": []
  },
  {
   "cell_type": "code",
   "execution_count": null,
   "metadata": {},
   "outputs": [],
   "source": []
  },
  {
   "cell_type": "code",
   "execution_count": null,
   "metadata": {},
   "outputs": [],
   "source": []
  },
  {
   "cell_type": "code",
   "execution_count": null,
   "metadata": {},
   "outputs": [],
   "source": [
    "y_test_pred = []\n",
    "y_similar_pred = []\n",
    "\n",
    "for i in np.arange(0.85, 0.95, 0.25):\n",
    "    mask = rfc.predict_proba(X_train)[:,1] > i\n",
    "\n",
    "    X_similar = X_train[mask]\n",
    "    y_similar = y_train[mask]\n",
    "\n",
    "    print(X_similar.shape, y_similar.shape)\n",
    "\n",
    "    mlp = MLPClassifier(max_iter=100, hidden_layer_sizes=(100,100,100), activation='relu', solver='adam')\n",
    "    mlp.fit(X_similar, y_similar);\n",
    "\n",
    "    y_test_pred.append(mlp.predict_proba(X_test)[:,1])\n",
    "    y_similar_pred.append(mlp.predict_proba(X_similar)[:,1])"
   ]
  },
  {
   "cell_type": "code",
   "execution_count": null,
   "metadata": {},
   "outputs": [],
   "source": [
    "y_similar_pred.shape()\n",
    "\n",
    "fig, ax = plt.subplots(nrows=2, ncols=2)\n",
    "\n",
    "for row in ax:\n",
    "    for col in row:\n",
    "        col.plot(*roc_curve(y_similar, y_similar_pred)[:2])\n",
    "        col.plot(*roc_curve(y_test, y_test_pred)[:2])\n",
    "\n",
    "plt.show()"
   ]
  },
  {
   "cell_type": "code",
   "execution_count": null,
   "metadata": {},
   "outputs": [],
   "source": [
    "# Какой-то код\n",
    "\n",
    "# Нормализация данных\n",
    "# x = df.values #returns a numpy array\n",
    "# min_max_scaler = preprocessing.MinMaxScaler()\n",
    "# x_scaled = min_max_scaler.fit_transform(x)\n",
    "# df = pd.DataFrame(x_scaled)\n",
    "\n",
    "\n",
    "# Класс на глаз\n",
    "# n_hidden_neurons = 50\n",
    "# rzd_net = torch.nn.Sequential(\n",
    "#     torch.nn.Linear(X_train_t.shape[1], n_hidden_neurons),\n",
    "#     torch.nn.LeakyReLU(),\n",
    "#     torch.nn.Linear(n_hidden_neurons, n_hidden_neurons),\n",
    "#     torch.nn.LeakyReLU(),\n",
    "#     torch.nn.Linear(n_hidden_neurons, n_hidden_neurons),\n",
    "#     torch.nn.LeakyReLU(),\n",
    "#     torch.nn.Linear(n_hidden_neurons, n_hidden_neurons),\n",
    "#     torch.nn.LeakyReLU(),\n",
    "#     torch.nn.Linear(n_hidden_neurons, 1),\n",
    "#     torch.nn.Sigmoid()\n",
    "# )\n",
    "\n",
    "# fpr, tpr, thresholds = roc_curve(y_test, rzd_net.forward(X_test_t).detach().numpy())\n",
    "# # get the best threshold\n",
    "# J = tpr - fpr\n",
    "# ix = argmax(J)\n",
    "# best_thresh = thresholds[ix]\n",
    "# print(f'Best Threshold={best_thresh}')\n",
    "# print(f'Best roc_auc_score={roc_auc_score(y_test, (rzd_net.forward(X_test_t).detach().numpy() > \n",
    "# best_thresh).astype(int))}')\n",
    "\n",
    "\n",
    "# import xgboost as xgb\n",
    "# dtrain = xgb.DMatrix(x, y)\n",
    "# params = {\"objective\": \"binary:logistic\", \"max_depth\": 6, \"eta\": 0.1, \"min_child_weight\": 10, \n",
    "#           \"gamma\": 0.75, \"subsample\": 0.8, \"colsample_bytree\": 0.95, \"eval_metric\": \"auc\"}\n",
    "# num_rounds = 46\n",
    "# xgb_model = xgb.train(params, dtrain, num_rounds)\n",
    "# pred = xgb_model.predict(dtrain)"
   ]
  },
  {
   "cell_type": "code",
   "execution_count": null,
   "metadata": {},
   "outputs": [],
   "source": []
  }
 ],
 "metadata": {
  "accelerator": "GPU",
  "colab": {
   "collapsed_sections": [],
   "name": "Lesson 5 Digits Recognition Video.ipynb",
   "provenance": [],
   "version": "0.3.2"
  },
  "kernelspec": {
   "display_name": "Python 3",
   "language": "python",
   "name": "python3"
  },
  "language_info": {
   "codemirror_mode": {
    "name": "ipython",
    "version": 3
   },
   "file_extension": ".py",
   "mimetype": "text/x-python",
   "name": "python",
   "nbconvert_exporter": "python",
   "pygments_lexer": "ipython3",
   "version": "3.7.6"
  }
 },
 "nbformat": 4,
 "nbformat_minor": 1
}
